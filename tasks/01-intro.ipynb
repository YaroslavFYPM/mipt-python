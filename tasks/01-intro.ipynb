{
  "cells": [
    {
      "cell_type": "markdown",
      "metadata": {
        "id": "view-in-github",
        "colab_type": "text"
      },
      "source": [
        "<a href=\"https://colab.research.google.com/github/YaroslavFYPM/mipt-python/blob/spring-2023/tasks/01-intro.ipynb\" target=\"_parent\"><img src=\"https://colab.research.google.com/assets/colab-badge.svg\" alt=\"Open In Colab\"/></a>"
      ]
    },
    {
      "cell_type": "markdown",
      "metadata": {
        "id": "yj5o_Hn-7s9f"
      },
      "source": [
        "## Домашнее задание №1 (курс \"Практикум по программированию на языке Python\")"
      ]
    },
    {
      "cell_type": "markdown",
      "metadata": {
        "id": "CBE7LghW7s9i"
      },
      "source": [
        "### Выполнил: <font color='red'>Клюкин Ярослав Дмитриевич, МФТИ, ФУПМ</font>\n",
        "\n",
        "### Тема: Введение в язык Python\n",
        "\n",
        "**Автор**: Мурат Апишев\n",
        "\n",
        "**Выдана**:   16 февраля 2023\n",
        "\n",
        "**Дедлайн**:  21:00 3 марта 2023\n",
        "\n",
        "**Среда выполнения**: Jupyter Notebook (Python 3.7+)\n",
        "\n",
        "#### Правила:\n",
        "\n",
        "Результат выполнения задания - Jupyter Notebook с кодом. __Максимальное число баллов за задание - 20__.\n",
        "\n",
        "Все ячейки должны быть \"выполненными\", при этом результат должен воспроизводиться при проверке (на Python 3.7). Если какой-то код не был запущен или отрабатывает с ошибками, то пункт не засчитывается. Задание, сданное после дедлайна, _не принимается_. Можно отправить недоделанное задание, выполненные пункты будут оценены.\n",
        "\n",
        "Готовое задание отправляется на почту mel-lain@yandex.ru.\n",
        "\n",
        "Задание выполняется самостоятельно. Если какие-то студенты будут уличены в списывании, все они автоматически получат за эту работу 0 баллов. Если вы нашли в Интернете какой-то специфичный код, который собираетесь заимствовать, обязательно укажите это в задании - наверняка вы не единственный, кто найдёт и использует эту информацию.\n",
        "\n",
        "__Удалять фрагменты формулировок заданий запрещается.__"
      ]
    },
    {
      "cell_type": "markdown",
      "metadata": {
        "id": "_jG3Hm117s9k"
      },
      "source": [
        "#### Постановка задачи:\n",
        "\n",
        "- В данной работе нужно решить набор задач, проверяющих владение базовыми инструментами языка.\n",
        "- Каждая задача представляет собой написание одной или более функций, а также набора тестов, проверяющих работу этой функции в общих и крайних случаях.\n",
        "- Отсутствие тестов автоматически уменьшает количество баллов за задание как минимум в два раза, некачественные тесты также будут штрафоваться.\n",
        "- Если в задании указано использовать несколько разных вариантов решения, подразумевается использование различных инструментов (циклы, списковые включения, генераторы, встроенные функции, функции модулей стандартной библотеки и т.п.), замена, например, цикла for на цикл while не является иным способом решения.\n",
        "- Даже если это не указано явно в требованиях, код должен быть по возможности неизбыточным, работать с разумной сложностью и объёмом потребялемой памяти, проверяющие могут снизить балл за задание, выполненное без учёта этого требования.\n",
        "- Результирующий код должен быть читаемым, с единой системой отступов и адеквантными названиями переменных, проверяющие могут снизить балл за задание, выполненное без учёта этого требования."
      ]
    },
    {
      "cell_type": "code",
      "execution_count": null,
      "metadata": {
        "id": "uc7H5g3c7s9l"
      },
      "outputs": [],
      "source": [
        "# Функция для тестов\n",
        "def test(func, inputs, answers):\n",
        "    your_answers = list(map(func, inputs))\n",
        "    if (your_answers == answers):\n",
        "        print(\"YES\")\n",
        "    else:\n",
        "        print(\"NO\")\n",
        "        print(\"Right answers: \", answers)\n",
        "        print(\"Your answers: \", your_answers)"
      ]
    },
    {
      "cell_type": "markdown",
      "metadata": {
        "id": "Y49zd0s37s9n"
      },
      "source": [
        "__Задание 1 (0.5 балла):__ Дано натуральное число. Требуется определить, является ли год с данным номером високосным. Если год является високосным, то выведите YES, иначе выведите NO. Напомним, что в соответствии с григорианским календарем, год является високосным, если его номер кратен 4, но не кратен 100, а также если он кратен 400."
      ]
    },
    {
      "cell_type": "code",
      "execution_count": null,
      "metadata": {
        "id": "HZarDhPM7s9n"
      },
      "outputs": [],
      "source": [
        "# Так как в этом задании просят именно вывести ответ, а не вернуть его, то функция test не используется."
      ]
    },
    {
      "cell_type": "code",
      "execution_count": null,
      "metadata": {
        "id": "lb70A7-E7s9o"
      },
      "outputs": [],
      "source": [
        "def task_01_func(year):\n",
        "    if year % 4 == 0 and year % 100 != 0:\n",
        "        print(\"YES\")\n",
        "    elif year % 400 == 0:\n",
        "        print(\"YES\")\n",
        "    else:\n",
        "        print(\"NO\")"
      ]
    },
    {
      "cell_type": "code",
      "execution_count": null,
      "metadata": {
        "id": "CmC2jMYT7s9o",
        "outputId": "ba2f6fa5-bd50-4f42-a64e-a3ae9b5d88e0"
      },
      "outputs": [
        {
          "name": "stdout",
          "output_type": "stream",
          "text": [
            "YES\n",
            "YES\n",
            "NO\n",
            "NO\n"
          ]
        }
      ],
      "source": [
        "# Тест\n",
        "years = [2012, 2000, 2100, 2013]\n",
        "for year in years:\n",
        "    task_01_func(year)"
      ]
    },
    {
      "cell_type": "markdown",
      "metadata": {
        "id": "tcIRMS4Q7s9q"
      },
      "source": [
        "Ответы корректны"
      ]
    },
    {
      "cell_type": "markdown",
      "metadata": {
        "id": "nbmLKh_R7s9r"
      },
      "source": [
        "__Задание 2 (0.5 балла):__ Дано натуральное число. Найдите число знаков в его десятичной записи. Предложите как минимум два различных решения."
      ]
    },
    {
      "cell_type": "code",
      "execution_count": null,
      "metadata": {
        "id": "dIAZq-H37s9r"
      },
      "outputs": [],
      "source": [
        "# Данные для теста\n",
        "inputs_02 = [1, 9, 10, 20, 100, 101, 199]\n",
        "answers_02 = [1, 1, 2, 2, 3, 3, 3]"
      ]
    },
    {
      "cell_type": "code",
      "execution_count": null,
      "metadata": {
        "id": "mS6_agyG7s9s"
      },
      "outputs": [],
      "source": [
        "# Первое решение\n",
        "def task_02_func(number):\n",
        "    number_of_characters = 1\n",
        "    while number // (10 ** number_of_characters) != 0:\n",
        "        number_of_characters += 1\n",
        "    return number_of_characters"
      ]
    },
    {
      "cell_type": "code",
      "execution_count": null,
      "metadata": {
        "id": "S1LYnsgq7s9s",
        "outputId": "1c30844e-66c9-44a0-d9ba-64e048dd0240"
      },
      "outputs": [
        {
          "name": "stdout",
          "output_type": "stream",
          "text": [
            "YES\n"
          ]
        }
      ],
      "source": [
        "# Тест        \n",
        "test(task_02_func, inputs_02, answers_02)"
      ]
    },
    {
      "cell_type": "code",
      "execution_count": null,
      "metadata": {
        "id": "EmXlRdYC7s9t"
      },
      "outputs": [],
      "source": [
        "#Второе решение\n",
        "def task_02_func(number):\n",
        "    string_number = str(number)\n",
        "    return len(string_number)"
      ]
    },
    {
      "cell_type": "code",
      "execution_count": null,
      "metadata": {
        "id": "8HIvMVaV7s9u",
        "outputId": "1f564091-7e6f-4c02-de2c-45463146a022"
      },
      "outputs": [
        {
          "name": "stdout",
          "output_type": "stream",
          "text": [
            "YES\n"
          ]
        }
      ],
      "source": [
        "# Тест\n",
        "test(task_02_func, inputs_02, answers_02)"
      ]
    },
    {
      "cell_type": "markdown",
      "metadata": {
        "id": "PMxkujb47s9u"
      },
      "source": [
        "__Задание 3 (0.5 балла):__ По данному натуральном n вычислите сумму 1!+2!+3!+...+n!. В решении этой задачи с помощью циклов можно использовать только один цикл. Предложите как минимум два различных решения."
      ]
    },
    {
      "cell_type": "code",
      "execution_count": null,
      "metadata": {
        "id": "d4iBAuBs7s9v"
      },
      "outputs": [],
      "source": [
        "# Данные для теста\n",
        "inputs_03 = [1, 2, 3, 10]\n",
        "answers_03 = [1, 3, 9, 4037913]"
      ]
    },
    {
      "cell_type": "code",
      "execution_count": null,
      "metadata": {
        "id": "tG-Oy5i_7s9v"
      },
      "outputs": [],
      "source": [
        "# Первое решение\n",
        "def task_03_func(n):\n",
        "    summator = 0\n",
        "    factorial = 1\n",
        "    for number in range(1, n+1):\n",
        "        summator += factorial*number\n",
        "        factorial = factorial*number\n",
        "    return summator"
      ]
    },
    {
      "cell_type": "code",
      "execution_count": null,
      "metadata": {
        "id": "1BA4_RI_7s9v",
        "outputId": "43a2cc8b-b8e6-4678-8cb8-83ac2ba2bf31"
      },
      "outputs": [
        {
          "name": "stdout",
          "output_type": "stream",
          "text": [
            "YES\n"
          ]
        }
      ],
      "source": [
        "# Тест\n",
        "test(task_03_func, inputs_03, answers_03)"
      ]
    },
    {
      "cell_type": "code",
      "execution_count": null,
      "metadata": {
        "id": "JpGSxCxP7s9w"
      },
      "outputs": [],
      "source": [
        "from math import factorial\n",
        "from functools import reduce\n",
        "\n",
        "# Второе решение\n",
        "def task_03_func(n):\n",
        "    temp_list = list(range(1, n+1))\n",
        "    fatorials = list(map(factorial, temp_list))\n",
        "    answer = reduce(lambda x, y: x + y, fatorials)\n",
        "    return answer"
      ]
    },
    {
      "cell_type": "code",
      "execution_count": null,
      "metadata": {
        "id": "L_ze4YBt7s9x",
        "outputId": "41e75a99-4e0d-4639-9651-7c2043a86351"
      },
      "outputs": [
        {
          "name": "stdout",
          "output_type": "stream",
          "text": [
            "YES\n"
          ]
        }
      ],
      "source": [
        "# Тест\n",
        "test(task_03_func, inputs_03, answers_03)"
      ]
    },
    {
      "cell_type": "markdown",
      "metadata": {
        "id": "FMl_a8ru7s9x"
      },
      "source": [
        "__Задание 4 (0.5 балла):__ Определить, является ли введённая строка палиндромом (то есть одинаково читается с обеих сторон). Предложите как минимум три различных решения."
      ]
    },
    {
      "cell_type": "code",
      "execution_count": null,
      "metadata": {
        "id": "plzxJzca7s9y"
      },
      "outputs": [],
      "source": [
        "# Данные для теста\n",
        "inputs_04 = [\"a\", \"abba\", \"ab\", \"abbc\"]\n",
        "answers_04 = [\"YES\", \"YES\", \"NO\", \"NO\"]"
      ]
    },
    {
      "cell_type": "code",
      "execution_count": null,
      "metadata": {
        "id": "36Nrflhj7s9y"
      },
      "outputs": [],
      "source": [
        "# Первое решение\n",
        "def task_04_func(s):\n",
        "    if list(s) == list(reversed(s)):\n",
        "        return \"YES\"\n",
        "    return \"NO\""
      ]
    },
    {
      "cell_type": "code",
      "execution_count": null,
      "metadata": {
        "id": "gswrBiNo7s9z",
        "outputId": "cb36102e-77a4-4c51-fbce-e7a08f59b6bc"
      },
      "outputs": [
        {
          "name": "stdout",
          "output_type": "stream",
          "text": [
            "YES\n"
          ]
        }
      ],
      "source": [
        "# Тест\n",
        "test(task_04_func, inputs_04, answers_04)"
      ]
    },
    {
      "cell_type": "code",
      "execution_count": null,
      "metadata": {
        "id": "aNHS89Nj7s90"
      },
      "outputs": [],
      "source": [
        "# Второе решение\n",
        "def task_04_func(s):\n",
        "    if s == s[::-1]:\n",
        "        return \"YES\"\n",
        "    return \"NO\""
      ]
    },
    {
      "cell_type": "code",
      "execution_count": null,
      "metadata": {
        "id": "ShpkpO4g7s90",
        "outputId": "34c9cf1b-2f16-4562-d3bf-fc0f2dea6e97"
      },
      "outputs": [
        {
          "name": "stdout",
          "output_type": "stream",
          "text": [
            "YES\n"
          ]
        }
      ],
      "source": [
        "# Тест\n",
        "test(task_04_func, inputs_04, answers_04)"
      ]
    },
    {
      "cell_type": "code",
      "execution_count": null,
      "metadata": {
        "id": "Bj6Njt7N7s90"
      },
      "outputs": [],
      "source": [
        "# Третье решение\n",
        "def task_04_func(s):\n",
        "    for i in range(len(s)):\n",
        "        if s[i] != s[len(s)-1-i]:\n",
        "            return \"NO\"\n",
        "    return \"YES\""
      ]
    },
    {
      "cell_type": "code",
      "execution_count": null,
      "metadata": {
        "id": "8W1fdxa07s91",
        "outputId": "5ded5953-7f91-4428-8381-eb1788972eaa"
      },
      "outputs": [
        {
          "name": "stdout",
          "output_type": "stream",
          "text": [
            "YES\n"
          ]
        }
      ],
      "source": [
        "# Тест\n",
        "test(task_04_func, inputs_04, answers_04)"
      ]
    },
    {
      "cell_type": "markdown",
      "metadata": {
        "id": "_uPfDMGb7s92"
      },
      "source": [
        "__Задание 5 (1 балл):__ Дан текст в виде строки. Напишите функцию, которая возвращает словарь, где ключами являются уникальные слова из этого текста, а значениями - число раз, которое данное слово встретилось в тексте. Считать, что слова разделяются пробелами. Предложите как минимум два различных решения."
      ]
    },
    {
      "cell_type": "code",
      "execution_count": null,
      "metadata": {
        "id": "z6wnze1j7s92"
      },
      "outputs": [],
      "source": [
        "# При решении считал, что для знаков препинания отдельная обраблтка не нужна"
      ]
    },
    {
      "cell_type": "code",
      "execution_count": null,
      "metadata": {
        "id": "rRfeM4Zn7s92"
      },
      "outputs": [],
      "source": [
        "# Данные для теста\n",
        "inputs_05 = [\"a b c a ab\", \"\"]\n",
        "answers_05 = [{\"a\": 2, \"b\": 1, \"c\": 1, \"ab\": 1}, {}]"
      ]
    },
    {
      "cell_type": "code",
      "execution_count": null,
      "metadata": {
        "id": "xGkQ70nQ7s93"
      },
      "outputs": [],
      "source": [
        "# Первое решение\n",
        "def task_05_func(text):\n",
        "    text_list = text.split()\n",
        "    frequency_dict = dict()\n",
        "    \n",
        "    for word in text_list:\n",
        "        if not word in frequency_dict:\n",
        "            frequency_dict[word] = 0\n",
        "        frequency_dict[word] += 1\n",
        "    return frequency_dict"
      ]
    },
    {
      "cell_type": "code",
      "execution_count": null,
      "metadata": {
        "id": "VnAqXSzH7s93",
        "outputId": "4af051ef-070a-47fe-8fee-2ffae226193e"
      },
      "outputs": [
        {
          "name": "stdout",
          "output_type": "stream",
          "text": [
            "YES\n"
          ]
        }
      ],
      "source": [
        "# Тест\n",
        "test(task_05_func, inputs_05, answers_05)"
      ]
    },
    {
      "cell_type": "code",
      "execution_count": null,
      "metadata": {
        "id": "cIKig-r27s94"
      },
      "outputs": [],
      "source": [
        "from collections import Counter\n",
        "\n",
        "# Второе решение\n",
        "def task_05_func(text):\n",
        "    return dict(Counter(text.split()))"
      ]
    },
    {
      "cell_type": "code",
      "execution_count": null,
      "metadata": {
        "id": "iynqiAvG7s94",
        "outputId": "ec58f35d-7039-4659-8b54-83953e3f9a05"
      },
      "outputs": [
        {
          "name": "stdout",
          "output_type": "stream",
          "text": [
            "YES\n"
          ]
        }
      ],
      "source": [
        "# Тест\n",
        "test(task_05_func, inputs_05, answers_05)"
      ]
    },
    {
      "cell_type": "markdown",
      "metadata": {
        "id": "kEZ-MIc_7s95"
      },
      "source": [
        "__Задание 6 (1 балл):__ Напишите функцию, которая принимает на вход строку и символ и возвращает:\n",
        "\n",
        "- если символ встретился в строке один раз - кортеж (индекс вхождения, None);\n",
        "- если два и более раз - кортеж (индекс первого вхождения, индекс последнего вхождения);\n",
        "- если ни разу - кортеж (None, None).\n",
        "\n",
        "Запрещается делать более одного прохода по каждому элементу строки."
      ]
    },
    {
      "cell_type": "code",
      "execution_count": null,
      "metadata": {
        "id": "as9AorEi7s95"
      },
      "outputs": [],
      "source": [
        "# Данные для теста\n",
        "inputs_06 = [[\"ababbb\", \"c\"], [\"bbabbb\", \"a\"], [[], \"a\"], [\"babbabbba\", \"a\"]]\n",
        "answers_06 = [tuple([None, None]), tuple([2, None]), tuple([None, None]), tuple([1, 8])]"
      ]
    },
    {
      "cell_type": "code",
      "execution_count": null,
      "metadata": {
        "id": "K-428qcj7s95"
      },
      "outputs": [],
      "source": [
        "def task_06_func(input_str, input_char):   \n",
        "    answer = [None, None]\n",
        "    counter = 0\n",
        "    \n",
        "    for index, element in enumerate(list(input_str)):\n",
        "        if element == input_char and counter == 0:\n",
        "            answer[0] = index\n",
        "            counter = 1\n",
        "        elif element == input_char and counter != 0:\n",
        "            answer[1] = index\n",
        "    \n",
        "    return tuple(answer)  "
      ]
    },
    {
      "cell_type": "code",
      "execution_count": null,
      "metadata": {
        "id": "zxzzZLTi7s96",
        "outputId": "bd811aaf-7252-4abe-ad24-91d6fbcbdb03"
      },
      "outputs": [
        {
          "name": "stdout",
          "output_type": "stream",
          "text": [
            "Тest 1 passed\n",
            "Тest 2 passed\n",
            "Тest 3 passed\n",
            "Тest 4 passed\n"
          ]
        }
      ],
      "source": [
        "# Тест\n",
        "for index, test in enumerate(inputs_06):\n",
        "    if task_06_func(*test) == answers_06[index]:\n",
        "        print(\"Тest {} passed\".format(index+1))\n",
        "    else:\n",
        "        print(\"Тest {} failed\".format(index+1))\n",
        "    "
      ]
    },
    {
      "cell_type": "markdown",
      "metadata": {
        "id": "dsadicQv7s97"
      },
      "source": [
        "При тестировании пользуемся оператором == для сравнения с None. Пользуюсь тем, что в данном ноутбуке оператор == точно не переопределялся."
      ]
    },
    {
      "cell_type": "markdown",
      "metadata": {
        "id": "pn7vXFQd7s97"
      },
      "source": [
        "__Задание 7 (1 балл):__ Дан список целых чисел. Напишите функцию, которая возвращает копию этого списка, из которой удалены отрицательные числа, а все прочие числа возведены в квадрат. Также возвращаемая последовательность должна быть отсортирована по убыванию. Предложите как минимум три различных решения."
      ]
    },
    {
      "cell_type": "code",
      "execution_count": null,
      "metadata": {
        "id": "FInFbPmc7s98"
      },
      "outputs": [],
      "source": [
        "# Данные для теста\n",
        "inputs_07 = [[1, 5, 0, -2, -6], []]\n",
        "answers_07 = [[25, 1, 0], []]"
      ]
    },
    {
      "cell_type": "code",
      "execution_count": null,
      "metadata": {
        "id": "8_0IJUic7s98",
        "outputId": "2b1c6c26-ce2a-4427-9d60-1a71018f463a"
      },
      "outputs": [
        {
          "name": "stdout",
          "output_type": "stream",
          "text": [
            "[25, 1, 0]\n"
          ]
        }
      ],
      "source": [
        "# Первое решение\n",
        "def task_07_func(lst):\n",
        "    return sorted([x**2 for x in lst if x >= 0], reverse=True)\n",
        "\n",
        "print(task_07_func([1, 5, 0, -2, -2]))"
      ]
    },
    {
      "cell_type": "code",
      "execution_count": null,
      "metadata": {
        "id": "6Utjzxsj7s98",
        "outputId": "7e8bb621-3397-47e4-c607-1867bc5c68be"
      },
      "outputs": [
        {
          "name": "stdout",
          "output_type": "stream",
          "text": [
            "Тest 1 passed\n",
            "Тest 2 passed\n"
          ]
        }
      ],
      "source": [
        "# Тест\n",
        "for index, test in enumerate(inputs_07):\n",
        "    if task_07_func(test) == answers_07[index]:\n",
        "        print(\"Тest {} passed\".format(index+1))\n",
        "    else:\n",
        "        print(\"Тest {} failed\".format(index+1))"
      ]
    },
    {
      "cell_type": "code",
      "execution_count": null,
      "metadata": {
        "id": "H8i39RZw7s99"
      },
      "outputs": [],
      "source": [
        "# Второе решение\n",
        "def task_07_func(lst):\n",
        "    answer = list()\n",
        "    for number in lst:\n",
        "        if number >= 0:\n",
        "            answer.append(number**2)\n",
        "    return sorted(answer, reverse=True)"
      ]
    },
    {
      "cell_type": "code",
      "execution_count": null,
      "metadata": {
        "id": "RkBKTRrm7s99",
        "outputId": "2f0be7cd-6e93-48d1-f928-98c3af12a694"
      },
      "outputs": [
        {
          "name": "stdout",
          "output_type": "stream",
          "text": [
            "Тest 1 passed\n",
            "Тest 2 passed\n"
          ]
        }
      ],
      "source": [
        "# Тест\n",
        "for index, test in enumerate(inputs_07):\n",
        "    if task_07_func(test) == answers_07[index]:\n",
        "        print(\"Тest {} passed\".format(index+1))\n",
        "    else:\n",
        "        print(\"Тest {} failed\".format(index+1))"
      ]
    },
    {
      "cell_type": "code",
      "execution_count": null,
      "metadata": {
        "id": "_M0lQmeW7s9-"
      },
      "outputs": [],
      "source": [
        "# Третье решение\n",
        "def task_07_func(lst):\n",
        "    filtered_lst = list(filter(lambda x: x >= 0, lst))\n",
        "    multipled_lst = list(map(lambda x: x**2, filtered_lst))\n",
        "    return sorted(multipled_lst, reverse=True)"
      ]
    },
    {
      "cell_type": "code",
      "execution_count": null,
      "metadata": {
        "id": "w5qNhznM7s9-",
        "outputId": "2a08e3cb-a64b-417d-f0f8-804646e34902"
      },
      "outputs": [
        {
          "name": "stdout",
          "output_type": "stream",
          "text": [
            "Тest 1 passed\n",
            "Тest 2 passed\n"
          ]
        }
      ],
      "source": [
        "# Тест\n",
        "for index, test in enumerate(inputs_07):\n",
        "    if task_07_func(test) == answers_07[index]:\n",
        "        print(\"Тest {} passed\".format(index+1))\n",
        "    else:\n",
        "        print(\"Тest {} failed\".format(index+1))"
      ]
    },
    {
      "cell_type": "markdown",
      "metadata": {
        "id": "k9kNvDUU7s9-"
      },
      "source": [
        "__Задание 8 (1 балл):__ Напишите функцию, которая принимает на вход список кортежей одинаковой длины и индекс `index` элемента в кортеже и возвращает генератор, итерирование по которому позволит получит все кортежи входного списка, отсортированные по убыванию элементов этих кортежей с индексом `index`."
      ]
    },
    {
      "cell_type": "code",
      "execution_count": null,
      "metadata": {
        "id": "dMCguzln7s9_"
      },
      "outputs": [],
      "source": [
        "def task_08_func(lst, index):\n",
        "    lst_sort = sorted(lst, key=lambda x: -x[index])\n",
        "    \n",
        "    for element in lst_sort:\n",
        "        yield element"
      ]
    },
    {
      "cell_type": "code",
      "execution_count": null,
      "metadata": {
        "id": "x7kigmpH7s9_",
        "outputId": "06594e0d-1234-479c-9632-ade11b037bcc"
      },
      "outputs": [
        {
          "name": "stdout",
          "output_type": "stream",
          "text": [
            "Test 1 passed\n",
            "Test 2 passed\n",
            "Test 3 passed\n",
            "Test 4 passed\n"
          ]
        }
      ],
      "source": [
        "# Тест\n",
        "my_gen = task_08_func([(-1, 5), (1, 2), (10, 8)], 1)\n",
        "\n",
        "if next(my_gen) == (10, 8):\n",
        "    print(\"Test 1 passed\")\n",
        "else:\n",
        "    print(\"Test 1 failed\")\n",
        "\n",
        "if next(my_gen) == (-1, 5):\n",
        "    print(\"Test 2 passed\")\n",
        "else:\n",
        "    print(\"Test 2 failed\")\n",
        "    \n",
        "if next(my_gen) == (1, 2):\n",
        "    print(\"Test 3 passed\")\n",
        "else:\n",
        "    print(\"Test 3 failed\")\n",
        "    \n",
        "try:\n",
        "    next(my_gen)\n",
        "    print(\"Test 4 failed\")\n",
        "except StopIteration:\n",
        "    print(\"Test 4 passed\")"
      ]
    },
    {
      "cell_type": "markdown",
      "metadata": {
        "id": "yb3G_pfl7s-A"
      },
      "source": [
        "__Задание 9 (1 балл):__ Напишите функцию, которая получает на вход натуральное число `n` и выводит первые `n` строк треугольника Паскаля."
      ]
    },
    {
      "cell_type": "code",
      "execution_count": null,
      "metadata": {
        "id": "jyj1XCys7s-A"
      },
      "outputs": [],
      "source": [
        "def task_09_func(n):\n",
        "    row = [1]\n",
        "    print(\" \"*(n-1), *row)\n",
        "    \n",
        "    for i in range(1, n):\n",
        "        row = [0] + row\n",
        "        for j in range(len(row)-1):\n",
        "            row[j] += row[j+1]\n",
        "        print(\" \"*(n-i-1), *row)"
      ]
    },
    {
      "cell_type": "code",
      "execution_count": null,
      "metadata": {
        "id": "YfBZ5Jf87s-A",
        "outputId": "21750be1-bf84-411d-8080-faf7a6d39371"
      },
      "outputs": [
        {
          "name": "stdout",
          "output_type": "stream",
          "text": [
            "Test 1:\n",
            " 1\n",
            "\n",
            "Test 2:\n",
            "  1\n",
            " 1 1\n",
            "\n",
            "Test 3:\n",
            "               1\n",
            "              1 1\n",
            "             1 2 1\n",
            "            1 3 3 1\n",
            "           1 4 6 4 1\n",
            "          1 5 10 10 5 1\n",
            "         1 6 15 20 15 6 1\n",
            "        1 7 21 35 35 21 7 1\n",
            "       1 8 28 56 70 56 28 8 1\n",
            "      1 9 36 84 126 126 84 36 9 1\n",
            "     1 10 45 120 210 252 210 120 45 10 1\n",
            "    1 11 55 165 330 462 462 330 165 55 11 1\n",
            "   1 12 66 220 495 792 924 792 495 220 66 12 1\n",
            "  1 13 78 286 715 1287 1716 1716 1287 715 286 78 13 1\n",
            " 1 14 91 364 1001 2002 3003 3432 3003 2002 1001 364 91 14 1\n"
          ]
        }
      ],
      "source": [
        "# Тест\n",
        "print(\"Test 1:\")\n",
        "task_09_func(1)\n",
        "print()\n",
        "print(\"Test 2:\")\n",
        "task_09_func(2)\n",
        "print()\n",
        "print(\"Test 3:\")\n",
        "task_09_func(15)"
      ]
    },
    {
      "cell_type": "markdown",
      "metadata": {
        "id": "i6UhtV0Q7s-B"
      },
      "source": [
        "__Задание 10 (1 балл):__ Напишите функцию, которая принимает на вход абсолютный путь к директории и две строки с расширениями файлов. В результате её выполнения у всех файлов в указанной директории, имеющих первое расширение, расширение должно измениться на второе. В конце работы функция должна возвращать кортеж из двух элементов:\n",
        "\n",
        "1. сколько всего в директории файлов (именно файлов, не директорий);\n",
        "2. у скольки из них расширение было изменено.\n",
        "\n",
        "Допускается только один проход по каждому файлу из указанной директории."
      ]
    },
    {
      "cell_type": "code",
      "execution_count": null,
      "metadata": {
        "id": "veR8RQHi7s-C"
      },
      "outputs": [],
      "source": [
        "from pathlib import Path\n",
        "import os\n",
        "import shutil"
      ]
    },
    {
      "cell_type": "code",
      "execution_count": null,
      "metadata": {
        "id": "aaESnoOy7s-C"
      },
      "outputs": [],
      "source": [
        "def task_10_func(dir_path, prev_extension, next_extension):\n",
        "    content = os.listdir(dir_path)\n",
        "    files_counter = 0\n",
        "    changed_files_counter = 0\n",
        "    \n",
        "    for element in content:\n",
        "        element_path = os.path.join(dir_path, element)\n",
        "        \n",
        "        if os.path.isfile(element_path):\n",
        "            files_counter += 1\n",
        "            element_extension = os.path.splitext(element_path)[1]\n",
        "            \n",
        "            if element_extension == prev_extension:\n",
        "                element_name = os.path.splitext(element_path)[0]\n",
        "                os.rename(element_path, element_name + next_extension)\n",
        "                changed_files_counter += 1\n",
        "    \n",
        "    return tuple([files_counter, changed_files_counter])"
      ]
    },
    {
      "cell_type": "code",
      "execution_count": null,
      "metadata": {
        "id": "2OuW42JV7s-D",
        "outputId": "622e3562-635a-4bae-d245-68f51c15d8ad"
      },
      "outputs": [
        {
          "name": "stdout",
          "output_type": "stream",
          "text": [
            "Test 1\n",
            "['dir', 'doc.docx', 'text.txt']\n",
            "(2, 1)\n",
            "['dir', 'doc.docx', 'text.docx']\n",
            "Test 2\n",
            "[]\n",
            "(0, 0)\n",
            "[]\n"
          ]
        }
      ],
      "source": [
        "# Тест 1\n",
        "print(\"Test 1\")\n",
        "dir_name = 'test_10'\n",
        "os.mkdir(dir_name)\n",
        "os.mkdir(os.path.join(dir_name, 'dir'))\n",
        "fp = open(os.path.join(dir_name, 'text.txt'), 'w')\n",
        "fp.close()\n",
        "fp = open(os.path.join(dir_name, 'doc.docx'), 'w')\n",
        "fp.close()\n",
        "\n",
        "path = os.path.abspath(dir_name)\n",
        "print(os.listdir(path))\n",
        "answer = task_10_func(path, '.txt', '.docx')\n",
        "print(answer)\n",
        "print(os.listdir(path))\n",
        "\n",
        "shutil.rmtree('test_10')\n",
        "\n",
        "# Тест 2\n",
        "print(\"Test 2\")\n",
        "dir_name = 'test_10'\n",
        "os.mkdir(dir_name)\n",
        "\n",
        "path = os.path.abspath(dir_name)\n",
        "print(os.listdir(path))\n",
        "answer = task_10_func(path, '.txt', '.docx')\n",
        "print(answer)\n",
        "print(os.listdir(path))\n",
        "\n",
        "shutil.rmtree('test_10')"
      ]
    },
    {
      "cell_type": "markdown",
      "metadata": {
        "id": "9zLLvAUi7s-D"
      },
      "source": [
        "__Задание 11 (1 балл):__ Описать функцию, которая принимает на вход два списка и возвращает список уникальных элементов, которые есть в первом входном списке и отсутствуют во втором. Запрещается использовать циклы и списковые включения/генераторы списков."
      ]
    },
    {
      "cell_type": "code",
      "execution_count": null,
      "metadata": {
        "id": "A8su0GjI7s-E"
      },
      "outputs": [],
      "source": [
        "def task_11_func(first_list, second_list):\n",
        "    return set(first_list) - set(second_list)"
      ]
    },
    {
      "cell_type": "code",
      "execution_count": null,
      "metadata": {
        "id": "lFURAIZb7s-F",
        "outputId": "47e6352c-b599-47b5-ec04-f4d63c4e03bc"
      },
      "outputs": [
        {
          "name": "stdout",
          "output_type": "stream",
          "text": [
            "Тest 1 passed\n",
            "Тest 2 passed\n",
            "Тest 3 passed\n"
          ]
        }
      ],
      "source": [
        "# Тест\n",
        "inputs_11 = [[set(), {0, 1}], [{1, 0}, {1, 2}], [{1, 0}, set()]]\n",
        "answers_11 = [set(), {0}, {1, 0}]\n",
        "for index, test in enumerate(inputs_11):\n",
        "    if task_11_func(*test) == answers_11[index]:\n",
        "        print(\"Тest {} passed\".format(index+1))\n",
        "    else:\n",
        "        print(\"Тest {} failed\".format(index+1))"
      ]
    },
    {
      "cell_type": "markdown",
      "metadata": {
        "id": "kJVXAt917s-F"
      },
      "source": [
        "__Задание 12 (1 балл):__ Напишите функцию, которая получает на вход путь к файлу, в котором в каждой строке записано одно вещественное число, а также путь к выходному файлу. Функция должна прочитать содержимое файла, игнорировать строки с нечётными индексами, а строки с чётными индексами должна увеличить на минимальное из чисел, содержащихся в этом файле. Полученные числа нужно записать в выходной файл с точностью 5 знаков после запятой.\n",
        "\n",
        "Требуется сделать не более двух проходов по входному файлу, расход памяти на протяжении работы должен быть O(1) (то есть никак не зависеть от числа строк во входном файле)."
      ]
    },
    {
      "cell_type": "code",
      "execution_count": null,
      "metadata": {
        "id": "AJC_y88m7s-G"
      },
      "outputs": [],
      "source": [
        "def task_12_func(input_path, output_path):\n",
        "    with open(input_path, 'r') as input_file:\n",
        "        min_number = input_file.readline().strip()\n",
        "        \n",
        "        if min_number:\n",
        "            min_number = float(min_number)\n",
        "            \n",
        "            while (line := input_file.readline().strip()):\n",
        "                if min_number > float(line):\n",
        "                    min_number = float(line)\n",
        "        \n",
        "            input_file.seek(0)\n",
        "            counter = 0\n",
        "            with open(output_path, 'w') as output_file:\n",
        "                while (line := input_file.readline().strip()):\n",
        "                    counter += 1\n",
        "                    if counter % 2 == 0:\n",
        "                        output_file.write(str(format(min_number + float(line), \".5f\") + \"\\n\"))"
      ]
    },
    {
      "cell_type": "code",
      "execution_count": null,
      "metadata": {
        "id": "oEAsJiK37s-G",
        "outputId": "67d15e9a-c932-4910-faf4-707969693033"
      },
      "outputs": [
        {
          "name": "stdout",
          "output_type": "stream",
          "text": [
            "Input file before:\n",
            "5.0005\n",
            "-1.05\n",
            "-2.000002\n",
            "6.006\n",
            "0.00005\n",
            "1.1\n",
            "10\n",
            "\n",
            "Output file after:\n",
            "-3.05000\n",
            "4.00600\n",
            "-0.90000\n",
            "\n"
          ]
        }
      ],
      "source": [
        "# Тест\n",
        "with open(\"input_file.txt\", \"w\") as input_file:\n",
        "    input_file.write(\"5.0005\\n-1.05\\n-2.000002\\n6.006\\n0.00005\\n1.1\\n10\")\n",
        "\n",
        "    \n",
        "with open(\"output_file.txt\", \"w\") as output_file:\n",
        "    pass\n",
        "\n",
        "with open(\"input_file.txt\", \"r\") as input_file:\n",
        "    print(\"Input file before:\")\n",
        "    print(input_file.read())\n",
        "    \n",
        "task_12_func(\"input_file.txt\", \"output_file.txt\")\n",
        "\n",
        "print()\n",
        "\n",
        "with open(\"output_file.txt\", \"r\") as output_file:\n",
        "    print(\"Output file after:\")\n",
        "    print(output_file.read())\n",
        "    \n",
        "os.remove(\"input_file.txt\")\n",
        "os.remove(\"output_file.txt\")"
      ]
    },
    {
      "cell_type": "markdown",
      "metadata": {
        "id": "Od2PnGvZ7s-H"
      },
      "source": [
        "__Задание 13 (1 балл):__ Написать функцию, которая принимает на вход число `n`, которое может быть либо натуральным, либо -1, и возвращает генератор чисел Фиббоначи. Если входной параметр равен натуральному числу, то генератор должен выдавать последовательно числа Фиббоначи до `n`-го. Если `n` равно -1, то генератор должен быть бесконечным."
      ]
    },
    {
      "cell_type": "code",
      "execution_count": null,
      "metadata": {
        "id": "KJjsEaXj7s-I"
      },
      "outputs": [],
      "source": [
        "def task_13_func(n):\n",
        "    yield 0\n",
        "    n -= 1\n",
        "    current_numbers = [0, 1]\n",
        "    while n != 0:\n",
        "        yield current_numbers[1]\n",
        "        n -=1\n",
        "        tmp = current_numbers[1]\n",
        "        current_numbers[1] += current_numbers[0]\n",
        "        current_numbers[0] = tmp"
      ]
    },
    {
      "cell_type": "code",
      "execution_count": null,
      "metadata": {
        "id": "4vHewcF07s-I",
        "outputId": "671f4738-bf54-4422-c7df-ffa4705468d9"
      },
      "outputs": [
        {
          "name": "stdout",
          "output_type": "stream",
          "text": [
            "Тest 1 passed\n",
            "Тest 2 passed\n",
            "Тest 3 passed\n",
            "Тest 4 passed\n",
            "Тest 5 passed\n",
            "Тest 6 passed\n",
            "Тest 7 passed\n",
            "Тest 8 passed\n",
            "Тest 9 passed\n",
            "Тest 10 passed\n",
            "Тest 11 passed\n",
            "Тest 12 passed\n",
            "Тest 13 passed\n",
            "Тest 14 passed\n",
            "Тest 15 passed\n",
            "Тest 16 passed\n",
            "Тest 17 passed\n",
            "Test 18 passed\n"
          ]
        }
      ],
      "source": [
        "# Тест для конечного генератора\n",
        "\n",
        "answers = [0, 1, 1, 2, 3, 5, 8, 13, 21, 34, 55, 89, 144, 233, 377, 610, 987]\n",
        "my_gen = task_13_func(len(answers))\n",
        "for index, answer in enumerate(answers):\n",
        "    if next(my_gen) == answer:\n",
        "        print(\"Тest {} passed\".format(index+1))\n",
        "    else:\n",
        "        print(\"Тest {} failed\".format(index+1))\n",
        "        \n",
        "try:\n",
        "    next(my_gen)\n",
        "    print(\"Test {} failed\".format(len(answers)+1))\n",
        "except StopIteration:\n",
        "    print(\"Test {} passed\".format(len(answers)+1))\n",
        "    \n",
        "# Тест для бесконечного генератора\n",
        "my_gen = task_13_func(-1)\n",
        "# while True:\n",
        "#     print(next(my_gen), next(my_gen), next(my_gen), next(my_gen), next(my_gen))"
      ]
    },
    {
      "cell_type": "markdown",
      "metadata": {
        "id": "8NEo1hQo7s-J"
      },
      "source": [
        "__Задание 14 (1 балл):__ Написать функцию, которая принимает на вход произвольный объект, проверяет его тип, и для целого числа возвращает список всех магических методов объекта, начинающихся с `__a`, для строк - с `__s`. Для всех прочих типов должен возвращаться список немагических методов. В задании запрещается использовать циклы и списковые включения/генераторы списков."
      ]
    },
    {
      "cell_type": "code",
      "execution_count": null,
      "metadata": {
        "id": "q_HGkyCh7s-K"
      },
      "outputs": [],
      "source": [
        "import re"
      ]
    },
    {
      "cell_type": "code",
      "execution_count": null,
      "metadata": {
        "id": "e75sESSb7s-M"
      },
      "outputs": [],
      "source": [
        "def task_14_func(n):\n",
        "    if type(n) == int:\n",
        "        int_dir = \" \".join(dir(n))\n",
        "        int_pattern = re.compile('__a[A-Za-z_]*__')\n",
        "        return int_pattern.findall(int_dir)\n",
        "    elif type(n) is str:\n",
        "        str_dir = \" \".join(dir(n))\n",
        "        str_pattern = re.compile('__s[A-Za-z_]*__')\n",
        "        return str_pattern.findall(str_dir)\n",
        "    else:\n",
        "        type_dir = \" \".join(dir(n))\n",
        "        type_pattern = re.compile('__[A-Za-z_]*__')\n",
        "        return list(set(dir(n)) - set(type_pattern.findall(type_dir)))"
      ]
    },
    {
      "cell_type": "code",
      "execution_count": null,
      "metadata": {
        "id": "GVO-srpX7s-M",
        "outputId": "3e73cfde-7450-42b4-96fe-8ab00af2d0cb"
      },
      "outputs": [
        {
          "name": "stdout",
          "output_type": "stream",
          "text": [
            "Test 1 passed\n",
            "Test 2 passed\n",
            "Test 3 passed\n"
          ]
        }
      ],
      "source": [
        "# Тест\n",
        "if set(task_14_func(5)) == set(['__abs__', '__add__', '__and__']):\n",
        "    print(\"Test {} passed\".format(1))\n",
        "else:\n",
        "    print(\"Test {} failed\".format(1))\n",
        "    \n",
        "if set(task_14_func(\"a\")) == set(['__setattr__', '__sizeof__', '__str__', '__subclasshook__']):\n",
        "    print(\"Test {} passed\".format(2))\n",
        "else:\n",
        "    print(\"Test {} failed\".format(2))\n",
        "    \n",
        "if set(task_14_func([1, 3])) == set(['remove', 'extend', 'append', 'index', 'copy', 'pop',\n",
        "                          'clear', 'count', 'reverse', 'sort', 'insert']):\n",
        "    print(\"Test {} passed\".format(3))\n",
        "else:\n",
        "    print(\"Test {} failed\".format(3))"
      ]
    },
    {
      "cell_type": "markdown",
      "metadata": {
        "id": "EfVww_mj7s-N"
      },
      "source": [
        "__Задание 15 (1.5 балла):__ Написать функцию, которая во входной строке заменяет вхождения всех английских заглавных букв на их номер в таблице ASCII, затем производит сплит по минимальной из цифр строки. Предложите как минимум два различных решения, одно из которых не должно использовать циклы. При использовании циклов допускается не более двух проходов по строке."
      ]
    },
    {
      "cell_type": "markdown",
      "metadata": {
        "id": "WV4F77js7s-N"
      },
      "source": [
        "Задача решалась а предположении, что в преобразованной строке будет хотя бы одна цифра (чтобы сделать split)"
      ]
    },
    {
      "cell_type": "code",
      "execution_count": null,
      "metadata": {
        "id": "UHwQ3Zgc7s-N"
      },
      "outputs": [],
      "source": [
        "# Первое решение\n",
        "def task_15_func(n):\n",
        "    new_list = []\n",
        "    \n",
        "    for letter in n:\n",
        "        if ord(\"A\") <= ord(letter) and ord(letter) <= ord(\"Z\"):\n",
        "            new_list.append(str(ord(letter)))\n",
        "        else:\n",
        "            new_list.append(letter)\n",
        "    \n",
        "    new_str = \"\".join(new_list)\n",
        "    \n",
        "    min_int = 9\n",
        "    for char in new_str:\n",
        "        if char.isnumeric() and int(char) < min_int:\n",
        "            min_int = int(char)\n",
        "           \n",
        "    return new_str.split(str(min_int))"
      ]
    },
    {
      "cell_type": "code",
      "execution_count": null,
      "metadata": {
        "id": "fqvNMOAt7s-O",
        "outputId": "a36679ff-3db0-4e27-afed-ea18ed51731f"
      },
      "outputs": [
        {
          "name": "stdout",
          "output_type": "stream",
          "text": [
            "Test 1 passed\n"
          ]
        }
      ],
      "source": [
        "# Тест\n",
        "if task_15_func(\"aAbB5@\") == ['a6', 'b66', '@']:\n",
        "    print(\"Test {} passed\".format(1))\n",
        "else:\n",
        "    print(\"Test {} failed\".format(1))"
      ]
    },
    {
      "cell_type": "code",
      "execution_count": null,
      "metadata": {
        "id": "Oxxm2c0t7s-O"
      },
      "outputs": [],
      "source": [
        "# Второе решение\n",
        "def task_15_func(n):\n",
        "    pattern = re.compile('[A-Z]')\n",
        "    new_str = re.sub(pattern, lambda x: str(ord(x.group())), n)\n",
        "    split_char = min(list(filter(lambda x: x.isnumeric(), new_str))) \n",
        "    return new_str.split(split_char)"
      ]
    },
    {
      "cell_type": "code",
      "execution_count": null,
      "metadata": {
        "id": "YEZXmZng7s-P",
        "outputId": "54cb58e0-b333-41e3-de45-a0358c70b4d6"
      },
      "outputs": [
        {
          "name": "stdout",
          "output_type": "stream",
          "text": [
            "Test 1 passed\n"
          ]
        }
      ],
      "source": [
        "# Тест\n",
        "if task_15_func(\"aAbB5@\") == ['a6', 'b66', '@']:\n",
        "    print(\"Test {} passed\".format(1))\n",
        "else:\n",
        "    print(\"Test {} failed\".format(1))"
      ]
    },
    {
      "cell_type": "markdown",
      "metadata": {
        "id": "3lgaizbj7s-P"
      },
      "source": [
        "__Задание 16 (1.5 балла):__ Написать функцию, которая принимает на вход строку и извлекает из неё мобильные телефонные номера с помощью регулярных выражений. Функция должна поддерживать общепринятые варианты написания номера, как со всевозможными разделителями, так и без них (обеспечьте поддержку не менее 10 различных случаев). Возвращаемым значением функции является список всех найденных в строке номеров, если их не было, нужно вернуть пустой список."
      ]
    },
    {
      "cell_type": "markdown",
      "metadata": {
        "id": "RmrOFV_Y7s-P"
      },
      "source": [
        "Хочу уметь распознавать следующие типы номеров:\n",
        "+79127257778,\n",
        "89127257778,\n",
        "+7(912)7257778,\n",
        "8(912)7257778,\n",
        "+7 (912) 725 77 78,\n",
        "+7 (912) 725-77-78,\n",
        "8 (912) 725 77 78,\n",
        "8 (912) 725-77-78,\n",
        "+7 912 725 77 78,\n",
        "+7 912 725-77-78,\n",
        "8 912 725 77 78,\n",
        "8 912 725-77-78."
      ]
    },
    {
      "cell_type": "code",
      "execution_count": null,
      "metadata": {
        "id": "LpAWXlyP7s-Q"
      },
      "outputs": [],
      "source": [
        "def task_16_func(n):\n",
        "    phone_pattern = re.compile('\\\\+?[0-9]{1} ?(?:[0-9]{3}|\\\\([0-9]{3}\\\\)) ?[0-9]{3}(?: |-)?[0-9]{2}(?: |-)?[0-9]{2}')\n",
        "    phone_numbers = phone_pattern.findall(n)\n",
        "    return phone_numbers"
      ]
    },
    {
      "cell_type": "code",
      "execution_count": null,
      "metadata": {
        "id": "ENE-XRhY7s-Q",
        "outputId": "1317a612-baaf-4ef4-b924-3850f67ff658"
      },
      "outputs": [
        {
          "name": "stdout",
          "output_type": "stream",
          "text": [
            "['+79127257778', '89127257778', '+7(912)7257778', '8(912)7257778', '+7 (912) 725 77 78', '+7 (912) 725-77-78', '8 (912) 725 77 78', '8 (912) 725-77-78', '+7 912 725 77 78', '+7 912 725-77-78', '8 912 725 77 78', '8 912 725-77-78']\n",
            "\n",
            "[]\n"
          ]
        }
      ],
      "source": [
        "# Тест\n",
        "phone_numbers = \"+79127257778, 89127257778, +7(912)7257778, 8(912)7257778, +7 (912) 725 77 78, +7 (912) 725-77-78, 8 (912) 725 77 78, 8 (912) 725-77-78, +7 912 725 77 78, +7 912 725-77-78, 8 912 725 77 78, 8 912 725-77-78\"\n",
        "print(task_16_func(phone_numbers))\n",
        "\n",
        "print()\n",
        "\n",
        "not_phone_numbers = \"+7 925 77 7, 9127257778, (912)725-77-78\"\n",
        "print(task_16_func(not_phone_numbers))"
      ]
    },
    {
      "cell_type": "markdown",
      "metadata": {
        "id": "0hSVYwcL7s-R"
      },
      "source": [
        "Тесты успешно пройдены."
      ]
    },
    {
      "cell_type": "markdown",
      "metadata": {
        "id": "LV4Xmcrb7s-R"
      },
      "source": [
        "__Задание 17 (5 баллов):__ Опишем бинарное дерево, представленное в виде вложенных кортежей, в каждом узле дерева хранится вещественное число и ссылка на левое и правое поддерево.\n",
        "\n",
        "Пример: для сбалансированного дерева\n",
        "\n",
        "```\n",
        "        v_0\n",
        "       /   \\\n",
        "   v_11     v_12\n",
        "  /  \\       /  \\\n",
        "v_21 v_22  v_23 v_24\n",
        "```\n",
        "\n",
        "представление в виде кортежей будет выглядеть так:\n",
        "\n",
        "```\n",
        "(v_0,\n",
        "    (v_11,\n",
        "        (v_21, None, None),\n",
        "        (v_22, None, None)\n",
        "    ),\n",
        "    (v_12,\n",
        "        (v_23, None, None),\n",
        "        (v_24, None, None)\n",
        "    )\n",
        ")\n",
        "```\n",
        "\n",
        "Необходимо написать функцию, которая принимает на вход бинарное дерево (не обязательно сбалансированное), закодированное описанным способом в виде кортежа, производит его обход в глубину и для каждой листовой вершины вычисляет сумму всех значений от корня до неё включительно. Функция ничего не возвращает, вместо этого она выводит получаемые суммы в порядке следования листовых вершин (слева направо).\n",
        "\n",
        "Реализуйте два решения: на основе рекурсии и на основе циклов."
      ]
    },
    {
      "cell_type": "code",
      "execution_count": null,
      "metadata": {
        "id": "hThw4jta7s-R"
      },
      "outputs": [],
      "source": [
        "# Решение на основе рекурсии\n",
        "def task_17_func(n, counter=0.):\n",
        "    root = n[0]\n",
        "    left_child = n[1]\n",
        "    right_child = n[2]\n",
        "    if left_child is None and right_child is None:\n",
        "        print(root+counter)\n",
        "    if not left_child is None:\n",
        "        task_17_func(left_child, counter+root)\n",
        "    if not right_child is None:\n",
        "        task_17_func(right_child, counter+root)"
      ]
    },
    {
      "cell_type": "markdown",
      "metadata": {
        "id": "zqGndROL7s-S"
      },
      "source": [
        "```\n",
        "         1 \n",
        "       /   \\\n",
        "   2          5\n",
        "  /  \\       /  \\\n",
        "3    4     6    7\n",
        "                  \\\n",
        "                   8\n",
        "```  "
      ]
    },
    {
      "cell_type": "code",
      "execution_count": null,
      "metadata": {
        "id": "UVkKsj7o7s-S",
        "outputId": "6bc1281c-a99a-4fbb-fa32-3d55e9440f79"
      },
      "outputs": [
        {
          "name": "stdout",
          "output_type": "stream",
          "text": [
            "6.0\n",
            "7.0\n",
            "12.0\n",
            "21.0\n",
            "\n",
            "1.0\n"
          ]
        }
      ],
      "source": [
        "# Тест\n",
        "tree = (1., (2., (3., None, None), (4., None, None)), (5., (6., None, None), (7., None, (8., None, None))))\n",
        "task_17_func(tree)\n",
        "print()\n",
        "tree = ((1., None, None))\n",
        "task_17_func(tree)"
      ]
    },
    {
      "cell_type": "markdown",
      "metadata": {
        "id": "YkNszYXH7s-S"
      },
      "source": [
        "При выполнении этого пункта частично опирался на: https://www.techiedelight.com/depth-first-search/"
      ]
    },
    {
      "cell_type": "code",
      "execution_count": null,
      "metadata": {
        "id": "9hhhUxFa7s-T"
      },
      "outputs": [],
      "source": [
        "# Решение на основе цикла\n",
        "from collections import deque\n",
        "\n",
        "def task_17_func(n):\n",
        "    stack = deque()\n",
        "    stack.append((n, 0.))\n",
        "    \n",
        "    while stack:\n",
        "        root, counter = stack.pop()\n",
        "        left_child = root[1]\n",
        "        right_child = root[2]\n",
        "        \n",
        "        if (left_child is None and right_child is None):\n",
        "            print(counter + root[0])\n",
        "        else:\n",
        "            if not right_child is None:\n",
        "                stack.append((right_child, counter + root[0]))\n",
        "            if not left_child is None:\n",
        "                stack.append((left_child, counter + root[0]))            "
      ]
    },
    {
      "cell_type": "code",
      "execution_count": null,
      "metadata": {
        "id": "v25bqbj07s-T",
        "outputId": "4058da8a-eabc-47ab-ccba-db385ab357b6"
      },
      "outputs": [
        {
          "name": "stdout",
          "output_type": "stream",
          "text": [
            "6.0\n",
            "7.0\n",
            "12.0\n",
            "21.0\n",
            "\n",
            "1.0\n"
          ]
        }
      ],
      "source": [
        "# Тест\n",
        "tree = (1., (2., (3., None, None), (4., None, None)), (5., (6., None, None), (7., None, (8., None, None))))\n",
        "task_17_func(tree)\n",
        "print()\n",
        "tree = ((1., None, None))\n",
        "task_17_func(tree)"
      ]
    },
    {
      "cell_type": "markdown",
      "metadata": {
        "id": "BQU5BqpM7s-T"
      },
      "source": [
        "Тесты успешно пройдены."
      ]
    }
  ],
  "metadata": {
    "kernelspec": {
      "display_name": "Python 3",
      "language": "python",
      "name": "python3"
    },
    "language_info": {
      "codemirror_mode": {
        "name": "ipython",
        "version": 3
      },
      "file_extension": ".py",
      "mimetype": "text/x-python",
      "name": "python",
      "nbconvert_exporter": "python",
      "pygments_lexer": "ipython3",
      "version": "3.8.3"
    },
    "colab": {
      "provenance": [],
      "include_colab_link": true
    }
  },
  "nbformat": 4,
  "nbformat_minor": 0
}