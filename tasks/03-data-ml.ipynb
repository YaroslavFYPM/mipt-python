{
  "cells": [
    {
      "cell_type": "markdown",
      "metadata": {
        "id": "view-in-github",
        "colab_type": "text"
      },
      "source": [
        "<a href=\"https://colab.research.google.com/github/YaroslavFYPM/mipt-python/blob/spring-2023/tasks/03-data-ml.ipynb\" target=\"_parent\"><img src=\"https://colab.research.google.com/assets/colab-badge.svg\" alt=\"Open In Colab\"/></a>"
      ]
    },
    {
      "cell_type": "markdown",
      "metadata": {
        "id": "7wpmXL5fDBnu"
      },
      "source": [
        "## Домашнее задание №3 (курс \"Практикум по программированию на языке Python\")"
      ]
    },
    {
      "cell_type": "markdown",
      "metadata": {
        "id": "EAJardRpDBnx"
      },
      "source": [
        "### Выполнил: <font color='red'>ФИО, ВУЗ, Факультет</font>\n",
        "\n",
        "### Тема: Основы анализа данных и машинного обучения\n",
        "\n",
        "#### Преподаватель: Мурат Апишев (mel-lain@yandex.ru)\n",
        "\n",
        "**Выдана**:   27 марта 2023\n",
        "\n",
        "**Дедлайн**:   21:00 9 апреля 2023\n",
        "\n",
        "**Среда выполнения**: Jupyter Notebook (Python 3.7+)\n",
        "\n",
        "#### Правила:\n",
        "\n",
        "Результат выполнения задания - Jupyter Notebook с кодом и подробными ответами в случае теоретических вопросов. __Максимальное число баллов за задание - 20__.\n",
        "\n",
        "Все ячейки должны быть \"выполненными\", при этом результат должен воспроизводиться при проверке (на Python 3.7). Если какой-то код не был запущен или отрабатывает с ошибками, то пункт не засчитывается. Задание, сданное после дедлайна, _не принимается_. Можно отправить недоделанное задание, выполненные пункты будут оценены.\n",
        "\n",
        "Готовое задание отправляется на почту преподавателя.\n",
        "\n",
        "Задание выполняется самостоятельно. Если какие-то студенты будут уличены в списывании, все они автоматически получат за эту работу 0 баллов. Если вы нашли в Интернете какой-то специфичный код, который собираетесь заимствовать, обязательно укажите это в задании - наверняка вы не единственный, кто найдёт и использует эту информацию.\n",
        "\n",
        "Удалять фрагменты формулировок заданий запрещается."
      ]
    },
    {
      "cell_type": "markdown",
      "metadata": {
        "id": "gkp-mTvGDBny"
      },
      "source": [
        "#### Постановка задачи:\n",
        "\n",
        "- В данной работе нужно решить ряд задач c использованием библиотек для обработки данных и машинного обучения, а также дать ичерпывающие ответы на поставленные вопросы.\n",
        "- В задачах 1-3 запрещается использовать циклы, генераторы списков и списковые включения, а также функции высшего порядка, необходимо написать тесты, проверяющие работу решения в обычных и крайних случаях.\n",
        "- Даже если это не указано явно в требованиях, код должен быть по возможности неизбыточным, работать с разумной сложностью и объёмом потребялемой памяти, проверяющие могут снизить балл за задание, выполненное без учёта этого требования.\n",
        "- Результирующий код должен быть читаемым, с единой системой отступов и адеквантными названиями переменных, проверяющие могут снизить балл за задание, выполненное без учёта этого требования.\n",
        "- Везде, где это требуется, должны быть отрисованы необходимые графики и даны комментарии и выводы."
      ]
    },
    {
      "cell_type": "code",
      "source": [
        "import numpy as np"
      ],
      "metadata": {
        "id": "F0HToeL2DWXD"
      },
      "execution_count": 1,
      "outputs": []
    },
    {
      "cell_type": "markdown",
      "metadata": {
        "id": "fAM8aYKxDBnz"
      },
      "source": [
        "__Задание 1 (0.5 балла):__ Проверить, что все элементы входного массива строго положительны."
      ]
    },
    {
      "cell_type": "code",
      "execution_count": 2,
      "metadata": {
        "id": "bUHoSRI3DBn0"
      },
      "outputs": [],
      "source": [
        "def task_1(arr):\n",
        "    arr = np.array(arr)\n",
        "    return np.all(arr > 0)"
      ]
    },
    {
      "cell_type": "code",
      "source": [
        "if task_1([]):\n",
        "    print(\"Test 0 passed\")\n",
        "else:\n",
        "    print(\"Test 0 failed\")\n",
        "\n",
        "if task_1([1, 2, 3]):\n",
        "    print(\"Test 1 passed\")\n",
        "else:\n",
        "    print(\"Test 1 failed\")\n",
        "\n",
        "if task_1([-1 , 2, 3]):\n",
        "    print(\"Test 2 failed\")\n",
        "else:\n",
        "    print(\"Test 2 passed\")\n",
        "\n",
        "if task_1([1 , 2, 0]):\n",
        "    print(\"Test 3 failed\")\n",
        "else:\n",
        "    print(\"Test 3 passed\")"
      ],
      "metadata": {
        "colab": {
          "base_uri": "https://localhost:8080/"
        },
        "id": "QKx5PwEaFNZh",
        "outputId": "8c41662d-d71d-4f41-d419-4706da3eeca7"
      },
      "execution_count": 3,
      "outputs": [
        {
          "output_type": "stream",
          "name": "stdout",
          "text": [
            "Test 0 passed\n",
            "Test 1 passed\n",
            "Test 2 passed\n",
            "Test 3 passed\n"
          ]
        }
      ]
    },
    {
      "cell_type": "markdown",
      "metadata": {
        "id": "Iu1s8zTLDBn2"
      },
      "source": [
        "__Задание 2 (0.5 балла):__ В векторе повторить все значения `n` раз. Пример: для массива `[1, 2, 3]` и `n` равного 3 ответом должен быть массив `[1, 1, 1, 2, 2, 2, 3, 3, 3]`."
      ]
    },
    {
      "cell_type": "code",
      "execution_count": 4,
      "metadata": {
        "id": "gfJwMnpRDBn2"
      },
      "outputs": [],
      "source": [
        "def task_2(arr, n):\n",
        "    return list(np.repeat(arr, repeats=n))"
      ]
    },
    {
      "cell_type": "code",
      "source": [
        "if task_2([1, 2, 3], 2) == [1, 1, 2, 2, 3, 3]:\n",
        "    print(\"Test 1 passed\")\n",
        "else:\n",
        "    print(\"Test 1 failed\")\n",
        "\n",
        "if task_2([], 10) == []:\n",
        "    print(\"Test 2 passed\")\n",
        "else:\n",
        "    print(\"Test 2 failed\")"
      ],
      "metadata": {
        "id": "w2fUZZ8eG_cV",
        "outputId": "2a715604-260b-49a6-8416-ed5050c28928",
        "colab": {
          "base_uri": "https://localhost:8080/"
        }
      },
      "execution_count": 5,
      "outputs": [
        {
          "output_type": "stream",
          "name": "stdout",
          "text": [
            "Test 1 passed\n",
            "Test 2 passed\n"
          ]
        }
      ]
    },
    {
      "cell_type": "markdown",
      "metadata": {
        "id": "FV6N-6tqDBn3"
      },
      "source": [
        "__Задание 3 (1 балл):__ Для векторов `V` и `v` построить вектор, в котором на 0-й позиции будет находиться сумма первых `v[0]` элементов вектора `V`, на 1-й - следующих `v[1]` элементов, и т.д. Гарантируется, что элементов в `V` достаточное количество. Пример: для массивов `V=[1, 2, 3, 4, 5, 6, 7, 8, 9, 10]` и `v=[2, 1, 3]` ответом будет `[3, 3, 15]`."
      ]
    },
    {
      "cell_type": "code",
      "execution_count": 33,
      "metadata": {
        "id": "7QpYJK-tDBn3"
      },
      "outputs": [],
      "source": [
        "def task_3(V, v):\n",
        "    v.insert(0, 0)\n",
        "    return np.add.reduceat(array=V, indices=np.cumsum(v))[:-1]"
      ]
    },
    {
      "cell_type": "code",
      "source": [
        "if list(task_3(V=[1, 2, 3, 4, 5, 6, 7, 8, 9, 10], v=[2, 1, 3])) == [3, 3, 15]:\n",
        "    print(\"Test 1 passed\")\n",
        "else:\n",
        "    print(\"Test 1 failed\")\n",
        "\n",
        "if list(task_3(V=[1, 2, 3, 4, 5, 6, 7, 8, 9, 10], v=[])) == []:\n",
        "    print(\"Test 2 passed\")\n",
        "else:\n",
        "    print(\"Test 2 failed\")\n",
        "\n",
        "if list(task_3(V=[1, 2, 3, 4, 5, 6, 7, 8, 9, 10], v=[0])) == [1]:\n",
        "    print(\"Test 3 passed\")\n",
        "else:\n",
        "    print(\"Test 3 failed\")"
      ],
      "metadata": {
        "id": "7yxIUEIEJk3D",
        "outputId": "0d98a6a2-ee9c-40f0-a9e4-0dc6f6177067",
        "colab": {
          "base_uri": "https://localhost:8080/"
        }
      },
      "execution_count": 37,
      "outputs": [
        {
          "output_type": "stream",
          "name": "stdout",
          "text": [
            "Test 1 passed\n",
            "Test 2 passed\n",
            "Test 3 passed\n"
          ]
        }
      ]
    },
    {
      "cell_type": "markdown",
      "metadata": {
        "id": "dI25N_ZYDBn3"
      },
      "source": [
        "Для решения следующих заданий скачайте набор данных 20 News Group с помощью следующего кода:"
      ]
    },
    {
      "cell_type": "code",
      "execution_count": null,
      "metadata": {
        "id": "6qb6nhv2DBn4"
      },
      "outputs": [],
      "source": [
        "import pandas as pd\n",
        "from sklearn.datasets import fetch_20newsgroups\n",
        "\n",
        "X_train = fetch_20newsgroups(subset='train')\n",
        "X_test = fetch_20newsgroups(subset='test')\n",
        "\n",
        "label_names = pd.DataFrame(columns=['label_name', 'label_id'],\n",
        "                           data=[(i, e) for i, e in enumerate(list(X_train.target_names))])\n",
        "data = pd.DataFrame()\n",
        "data['text'] = X_train.data + X_test.data\n",
        "data['is_train'] = [True] * len(X_train.data) + [False] * len(X_test.data)\n",
        "data['label_id'] = list(X_train.target) + list(X_test.target)"
      ]
    },
    {
      "cell_type": "markdown",
      "metadata": {
        "id": "0dEBrGxoDBn4"
      },
      "source": [
        "__Задание 4 (1 балл):__ Используя возможности библиотеки pandas\n",
        "\n",
        "- сделайте join таблиц `data` и `label_names`, удалив из итоговой таблицы поле `label_id`\n",
        "- посчитайте количество обучающих и тестовых данных\n",
        "- постройте круговую диаграмму, показывающую долю каждого класса в обучающих данных"
      ]
    },
    {
      "cell_type": "markdown",
      "metadata": {
        "id": "UfrhpJY_DBn5"
      },
      "source": [
        "__Задание 5 (2 балла):__ Каждый объект представляет собой текст. Чаще всего тексты предобрабатывают перед тем, как пытаться выделять из них признаки. Опишите функцию `preprocess`, которая получает на вход сырой текст и возвращает предобработанный. Примените эту функцию к элементу `text` каждого объекта и результат запишите в столбец `pp_text` (далее под текстом подразумевается именно содержимое этого столбца). За пределами `preprocess` циклами пользоваться запрещено (т.е. предобработка должна применяться средствами DataFrame). Функция должна выполнять следующий набор операций:\n",
        "\n",
        "- привести текст к нижнему регистру\n",
        "- заменить все символы '\\n', '\\t' и '\\r' на пробелы\n",
        "- заменить в тексте все символы, не являющиеся английскими буквами, на пробелы\n",
        "- сделать split текста по пробелам, удалив все пустые слова\n",
        "- вернуть получившийся список слов\n",
        "\n",
        "Для ускорения `preprocess` может использовать внешние переменные, например, скомпилированные регулярные выражения."
      ]
    },
    {
      "cell_type": "code",
      "execution_count": null,
      "metadata": {
        "id": "tHw4Rjk5DBn6"
      },
      "outputs": [],
      "source": [
        "def preprocess(text):    \n",
        "    pass\n",
        "\n",
        "def task_5():\n",
        "    pass"
      ]
    },
    {
      "cell_type": "markdown",
      "metadata": {
        "id": "JkPax5UADBn6"
      },
      "source": [
        "__Задание 6 (2 балла):__ Каждое уникальное слово текста представляет собой признак. Посчитайте, сколько в обучающих текстах есть уникальных слов, отобразите гистограмму частот встречаемости слов в обучающей коллекции, \n",
        "отсортировав слова по убыванию частоты встречаемости (по оси X идут все слова из словаря коллекции в порядке убывания частоты встречаемости, по оси Y указываются значения частот).\n",
        "\n",
        "Для уменьшения признакового пространства словарь фильтруют. Удалите из словаря\n",
        "\n",
        "- все слова, встречающиеся более 9000-х раз\n",
        "- все слова, встречающиеся менее 3-х раз\n",
        "- все слова длиной менее 3 символов\n",
        "- все слова длиной более 20 символов\n",
        "- все слова, состоящие из одного и того же символа\n",
        "\n",
        "Профильтруйте обучающую коллекцию по новому словарю и снова посчитайте число уникальных слов в словаре и снова постройте гистограмму частот."
      ]
    },
    {
      "cell_type": "code",
      "execution_count": null,
      "metadata": {
        "id": "Dqn5Rif1DBn6"
      },
      "outputs": [],
      "source": [
        "from collections import Counter\n",
        "\n",
        "vocabulary = Counter()\n",
        "\n",
        "def task_6():\n",
        "    pass"
      ]
    },
    {
      "cell_type": "markdown",
      "metadata": {
        "id": "qEnSY3SuDBn7"
      },
      "source": [
        "__Задание 7 (1.5 балла):__ Для построения моделей данные нужно перевести в числовой вид. Для этого воспользуйтесь представлением \"мешка слов\", в котором признаками являются слова, а значениями - частоты их встречаемости в документе. Построить представление мешка слов можно с помощью класса CountVectorizer из sklearn. Подготовьте векторизатор, подав ему обучающие текстовые данные из `data` (приведите тексты к формату входа векторизатора) и полученный выше словарь.\n",
        "\n",
        "Примените полученный векторизатор к обучающим и тестовым данным, на выходе должны получиться два numpy array (первая размерность - число объектов, вторая - число слов в словаре)."
      ]
    },
    {
      "cell_type": "code",
      "execution_count": null,
      "metadata": {
        "id": "oVQw9tLzDBn7"
      },
      "outputs": [],
      "source": [
        "from sklearn.feature_extraction.text import CountVectorizer\n",
        "\n",
        "def task_7():\n",
        "    # vectorizer = ...\n",
        "    pass\n",
        "\n",
        "    # assert len(vectorizer.vocabulary_) == len(vocabulary)"
      ]
    },
    {
      "cell_type": "markdown",
      "metadata": {
        "id": "3vlHr1SYDBn8"
      },
      "source": [
        "__Задание 8 (1.5 балла):__ Модель логистической регрессии хорошо работает для простых задач классификации текстов, примените её к полученным данным. Для этого настройте модель на обучающих данных, сделайте предсказание для тестовых и измерьте качество с помощью метрик accuracy и F1-score с микро- и макро-усреднением. Попробуйте подобрать оптимальное значение коэффициента регуляризации С с помощью GridSearchCV."
      ]
    },
    {
      "cell_type": "code",
      "execution_count": null,
      "metadata": {
        "id": "681OSs7aDBn8"
      },
      "outputs": [],
      "source": [
        "from sklearn.linear_model import LogisticRegression\n",
        "from sklearn.metrics import accuracy_score, f1_score\n",
        "from sklearn.model_selection import GridSearchCV\n",
        "\n",
        "def task_8():\n",
        "    # vectorizer = ...\n",
        "    pass\n",
        "\n",
        "    # assert len(vectorizer) == len(vocabulary)"
      ]
    },
    {
      "cell_type": "markdown",
      "metadata": {
        "id": "_Vp1NACvDBn8"
      },
      "source": [
        "__Задание 9 (1.5 балл):__ Ошибки классификации удобно анализировать с помощью матрицы ошибок. Сделав предсказание на тесте постройте и визуализируйте эту матрицу с помощью функции plot_confusion_matrix в двух вариантах: с абсолютными и относительными (нормированными) значеними. Определите классы, которые чаще всего путаются между собой."
      ]
    },
    {
      "cell_type": "code",
      "execution_count": null,
      "metadata": {
        "id": "PFeA3vv2DBn8"
      },
      "outputs": [],
      "source": [
        "from sklearn.metrics import plot_confusion_matrix\n",
        "\n",
        "def task_9():\n",
        "    pass"
      ]
    },
    {
      "cell_type": "markdown",
      "metadata": {
        "id": "8kBXYiniDBn9"
      },
      "source": [
        "__Задание 10 (2.5 балла):__ Установите библиотеку XGBoost и обучите модель градиентного бустинга для решения поставленной задачи классификации. Попробуйте подобрать оптимальную модель, выбрав 2-3 важных параметра обучения. Укажите, какие параметры в большей, а какие - в меньшей степени оказали влияние на итоговое качество модели."
      ]
    },
    {
      "cell_type": "code",
      "execution_count": null,
      "metadata": {
        "id": "A06yQZR5DBn9"
      },
      "outputs": [],
      "source": [
        "from xgboost import XGBClassifier\n",
        "\n",
        "def task_10():\n",
        "    pass"
      ]
    },
    {
      "cell_type": "markdown",
      "metadata": {
        "id": "eIinJChEDBn-"
      },
      "source": [
        "__Задание 11 (3 балла):__ Часто в обработке текстов возникает задача выделения тем, обсуждаемых в них. Одним из способов решения это задачи является кластеризация графа совстречаемостей слов. Для текстов, находящихся в поле `pp_text` постройте словарь \"слово\" в \"слово\" в \"счетчик совстречаемости\", для слова A и B достаточно хранить A -> B -> counter, хранить B -> A -> counter не нужно. Счетчик увеличивается на 1, если пара слов встретилась в одном тексте внутри окна с длиной 10 слов."
      ]
    },
    {
      "cell_type": "code",
      "execution_count": null,
      "metadata": {
        "id": "K-_UV1JvDBn-"
      },
      "outputs": [],
      "source": [
        "def task_11():\n",
        "    pass"
      ]
    },
    {
      "cell_type": "markdown",
      "metadata": {
        "id": "Q1jMj_SJDBn_"
      },
      "source": [
        "__Задание 12 (3 балла):__ Приняв каждое слово за вершину, а ребра между ними - за наличие совместной встречаемости, постройте граф совстречаемостей. Все ребра равнозначны, ребро добавляется между словами, если значение счетчика совместной встречамости этих слов выше заданного порога T. Примените к получившему графу алгоритм выделения сообществ greedy_modularity_communities из библиотеки NetworkX и напечайте получившиеся вообщества. Можно ли их как-то интерпретировать?\n",
        "\n",
        "Пробуйте варьировать значение T от 70 до 120 и удалять слишком большие (и потому заведомо бесполезные) сообщества и сообщества из 1 слова."
      ]
    },
    {
      "cell_type": "code",
      "execution_count": null,
      "metadata": {
        "id": "iO4FTMANDBn_"
      },
      "outputs": [],
      "source": [
        "from networkx import Graph\n",
        "from networkx.algorithms import community\n",
        "\n",
        "def task_12():\n",
        "    # community.greedy_modularity_communities(...)\n",
        "    pass"
      ]
    }
  ],
  "metadata": {
    "kernelspec": {
      "display_name": "Python 3",
      "language": "python",
      "name": "python3"
    },
    "language_info": {
      "codemirror_mode": {
        "name": "ipython",
        "version": 3
      },
      "file_extension": ".py",
      "mimetype": "text/x-python",
      "name": "python",
      "nbconvert_exporter": "python",
      "pygments_lexer": "ipython3",
      "version": "3.8.8"
    },
    "colab": {
      "provenance": [],
      "include_colab_link": true
    }
  },
  "nbformat": 4,
  "nbformat_minor": 0
}