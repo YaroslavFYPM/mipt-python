{
  "cells": [
    {
      "cell_type": "markdown",
      "metadata": {
        "id": "view-in-github",
        "colab_type": "text"
      },
      "source": [
        "<a href=\"https://colab.research.google.com/github/YaroslavFYPM/mipt-python/blob/spring-2023/tasks/02-oop.ipynb\" target=\"_parent\"><img src=\"https://colab.research.google.com/assets/colab-badge.svg\" alt=\"Open In Colab\"/></a>"
      ]
    },
    {
      "cell_type": "markdown",
      "metadata": {
        "id": "HH4p0xaeYGZT"
      },
      "source": [
        "## Домашнее задание №2 (курс \"Практикум по программированию на языке Python\")"
      ]
    },
    {
      "cell_type": "markdown",
      "metadata": {
        "id": "i5q_NjE0YGZY"
      },
      "source": [
        "### Выполнил: <font color='red'>Клюкин Ярослав Дмитриевич, МФТИ, ФУПМ</font>\n",
        "\n",
        "### Тема: Объектно-ориентированное программирование на языке Python\n",
        "\n",
        "#### Преподаватель: Мурат Апишев (mel-lain@yandex.ru)\n",
        "\n",
        "**Выдана**:   11 марта 2023\n",
        "\n",
        "**Дедлайн**:   21:00 26 марта 2023\n",
        "\n",
        "**Среда выполнения**: Jupyter Notebook (Python 3.7)\n",
        "\n",
        "\n",
        "#### Правила:\n",
        "\n",
        "Результат выполнения задания - Jupyter Notebook с кодом и подробными ответами в случае теоретических вопросов. __Максимальное число баллов за задание - 20__.\n",
        "\n",
        "Все ячейки должны быть \"выполненными\", при этом результат должен воспроизводиться при проверке (на Python 3.7). Если какой-то код не был запущен или отрабатывает с ошибками, то пункт не засчитывается. Задание, сданное после дедлайна, _не принимается_. Можно отправить недоделанное задание, выполненные пункты будут оценены.\n",
        "\n",
        "Готовое задание отправляется на почту преподавателя.\n",
        "\n",
        "Задание выполняется самостоятельно. Если какие-то студенты будут уличены в списывании, все они автоматически получат за эту работу 0 баллов. Если вы нашли в Интернете какой-то специфичный код, который собираетесь заимствовать, обязательно укажите это в задании - наверняка вы не единственный, кто найдёт и использует эту информацию.\n",
        "\n",
        "Удалять фрагменты формулировок заданий запрещается."
      ]
    },
    {
      "cell_type": "markdown",
      "metadata": {
        "id": "VoY7jNvQYGZb"
      },
      "source": [
        "#### Постановка задачи:\n",
        "\n",
        "- В данной работе нужно\n",
        "    - ответить на ряд теоретических вопросов;\n",
        "    - решить набор задач, проверяющих владение ООП-инструментами языка;\n",
        "    - решить задачу на проектирование кода.\n",
        "- Ответы на теоретические вопросы должны быть полными и обоснованными.\n",
        "- Каждая задача представляет собой написание функции или класса, а также набора тестов, проверяющих работу решения в общих и крайних случаях.\n",
        "- Отсутствие тестов автоматически уменьшает количество баллов за задание как минимум в два раза, некачественные тесты также будут штрафоваться.\n",
        "- Даже если это не указано явно в требованиях, код должен быть по возможности неизбыточным, работать с разумной сложностью и объёмом потребялемой памяти, проверяющие могут снизить балл за задание, выполненное без учёта этого требования.\n",
        "- Результирующий код должен быть читаемым, с единой системой отступов и адеквантными названиями переменных, проверяющие могут снизить балл за задание, выполненное без учёта этого требования."
      ]
    },
    {
      "cell_type": "markdown",
      "metadata": {
        "id": "te6JUm9PMSmg"
      },
      "source": [
        "## Теория"
      ]
    },
    {
      "cell_type": "markdown",
      "metadata": {
        "id": "ou8TORitYGZc"
      },
      "source": [
        "__Задание 1 (2 балла):__ Дайте подробные ответы на следующие вопросы:\n",
        "\n",
        "1. В чём смысл инкапсуляции? Приведите пример конкретной ситуации в коде, в которой нарушение инкапсуляции приводит к проблемам.\n",
        "2. Какой метод называется статическим? Что такое параметр `self`?\n",
        "3. В чём отличия методов `__new__` и `__init__`?\n",
        "4. Какие виды отношений классов вы знаете? Для каждого приведите примеры. Укажите взаимные различия.\n",
        "5. Зачем нужны фабрики? Опишите смысл использования фабричного метода, фабрики и абстрактной фабрики, а также их взаимные отличия."
      ]
    },
    {
      "cell_type": "markdown",
      "metadata": {
        "id": "xeYFLyq_MSmk"
      },
      "source": [
        "### Вопрос 1\n",
        "Смысл инкапсуляции в том, что состояние объекта класса должно изменяться методами класса, а не снаружи. Это позволяет пользователю не разбираться, как класс устроен изнутри, кроме того он ничего не сломает.\n",
        "\n",
        "Например:"
      ]
    },
    {
      "cell_type": "code",
      "execution_count": null,
      "metadata": {
        "id": "zj6oZVHMMSmm"
      },
      "outputs": [],
      "source": [
        "# Класс маршрут\n",
        "class Route:\n",
        "    def __init__(self, source, destination):\n",
        "        self._source = source  # Пункт отправки\n",
        "        self._destination = destination  # Пункт назначения\n",
        "        self._length = 'Запрос к БД'   # Выполняется запрос к базе данных для вычисления длины данного маршрута\n",
        "\n",
        "# Пусть далее при помощи объекта этого класса создаётся маршрут на карте. \n",
        "route = Route('Kirov', 'Moscow')\n",
        "# Если пользователь случайно изменит поле _length, которое предназначено только для чтения, то мы получим некорректное отображение на карте.\n",
        "route._length = 1\n",
        "# Например, программа просто не может построить маршрут между Кировом и Москвой, потому что его длина на карте не совпадает с данной в классе.\n",
        "# Это происходит из-за того, что мы поменяли то, что считается \"под капотом\" в классе\\\n",
        "# Чтобы не было таких ситуаций нужно создать метод get_length()\n",
        "\n",
        "# Данный пример вспомнил с курса по C++ \"Белый пояс\" на Courserа, может быть кто-то ещё вспомнит."
      ]
    },
    {
      "cell_type": "markdown",
      "metadata": {
        "id": "eXfRfTX1MSmq"
      },
      "source": [
        "### Вопрос 2\n",
        "\n",
        "Метод называется статическим, если он не принимает на вход self. По сути это функция, определённая внутри namespace класса.\n",
        "self является ссылкой на текущий экземпляр класса (к которому мы применяем метод). Аналог this в C++. Используется для обращения к полям объекта внутри класса."
      ]
    },
    {
      "cell_type": "markdown",
      "metadata": {
        "id": "ZgC6E4jTMSms"
      },
      "source": [
        "### Вопрос 3\n",
        "\n",
        "`__new__` является статическим методом, который создаёт объект класса.\n",
        "\n",
        "`__init__` принимает на вход self, инициализирует его поля (атрибуты) и ничего не возвращает."
      ]
    },
    {
      "cell_type": "markdown",
      "metadata": {
        "id": "RRWiXg6QMSmt"
      },
      "source": [
        "### Вопрос 4\n",
        "\n",
        "Различают вертикальные (наследование, реализация) и горизонтальные (ассоциация, композиция, агрегация) виды отношений.\n",
        "\n",
        "Наследование - класс наследует класс. Расширяет возможности родительского класса и, возможно, переопределяет его методы. Например класс Квадрат - наследник класса Прямоугольник, происходит уточнение методов подсчёта периметра и площади.\n",
        "\n",
        "Реализация - класс реализует интерфейс. То есть у нас был обозначен некоторый набор методов в интерфейсе, которые мы реализовали в классе. Например, интерфейс Птица, который предполагает методы лететь, кушать, голос. Его реализует класс Воробей, с реализацией методов: махать крыльями, клевать и чирикать соответсвенно.\n",
        "\n",
        "Ассоциация - горизонтальная связь между объектами двух классов, при этом объекты. Например, класс Преподаватель и класс Студент. Преподаватель учит студента и может поставить ему оценку. У преподавателя есть метод поставить студенту оценку, у студента метод, показывающий кто его учит.\n",
        "\n",
        "Композиция - вложенность объекта одного класса в другой (главный управляет жизненным циклом зависимого). То есть один без другого не существует.Например, класс Машина и класс Двигатель. В машине может стоять только один двигатель, а двигатель обычно устанавливают в машину. В машине может быть метод звести/выключить двигатель.\n",
        "\n",
        "Агрегация - вложенность объекта одного класса в другой (объекты остаются независимыми). Например, Группа и Ученик. Полем группы может быть список из учащихся в нём учеников, а у ученика метод, который показывает группу в которой он учится. При этом студент может ходить на разные предметы в разные группы.\n",
        "\n",
        "Для написания некоторых примеров вдохновлялся: https://java-course.ru/begin/relations/"
      ]
    },
    {
      "cell_type": "markdown",
      "metadata": {
        "id": "VwCwyxFAMSmv"
      },
      "source": [
        "### Вопрос 5\n",
        "\n",
        "Фабрика - это общая идея создания объекта с помощью какой-то другой сущности. Удобный шаблон проектирования, который повышает переиспользование кода и упрощает горизонтальное расширение.\n",
        "\n",
        "Простая фабрика - общий и незамысловатый подход. Создаём класс, в котором есть метод создающий другие классы. Создаваемые классы могут иметь различный интерфейс и быть вообще никак не связаны друг с другом.\n",
        "\n",
        "Фабричный метод - не создаём кучу классов производителей и классов продуктов, а  пишем общий интерфейс для всех производителей и всех продуктов, которые потом реализовываем. Теперь каждый конкретный производитель получает возможность создавать конкретный продукт с помощью одного и того же метода.\n",
        "\n",
        "Абстрактная фабрика - идея в том, чтобы создавать продукты одними и теми же методами, не зависимо от фабрики, которой мы пользуемся. Создаём интерфейсы для фабрики и продуктов, потом их конкредные реализации - классы. И при использовании в классе, в котором в зависимости от чего-то выбирается нужная фабрика мы можем воспользоваться плюсами общего интерфеса и сделать так, что пользователь этого класса будет работать к нашим продуктом одинакого в независимости от фабрики.\n"
      ]
    },
    {
      "cell_type": "markdown",
      "metadata": {
        "id": "aoREbfFRMSmx"
      },
      "source": [
        "## Практические задания"
      ]
    },
    {
      "cell_type": "markdown",
      "metadata": {
        "id": "BwhP5H6HYGZd"
      },
      "source": [
        "__Задание 2 (1 балл):__ Опишите класс комплексных чисел. У пользователя должна быть возможность создать его объект на основе числа и в алгебраической форме, и в полярной. Класс должен поддерживать основные математические операции (+, -, \\*, /) за счет перегрузки соответствующих магических методов. Также он должен поддерживать возможность получить число в алгебраической и полярной форме. Допускается использование модуля `math`."
      ]
    },
    {
      "cell_type": "code",
      "execution_count": null,
      "metadata": {
        "id": "jReERHMGMSmz"
      },
      "outputs": [],
      "source": [
        "import math\n",
        "from typing import Literal, Tuple, List"
      ]
    },
    {
      "cell_type": "code",
      "execution_count": null,
      "metadata": {
        "id": "_mclmxgrYGZe"
      },
      "outputs": [],
      "source": [
        "class ComplexNumber:\n",
        "    def __init__(self, a: float, b: float, form='algebraic'):\n",
        "        if form == 'algebraic':\n",
        "            self._re = a\n",
        "            self._im = b\n",
        "        elif form == 'polar':\n",
        "            self._re = a*math.cos(b)\n",
        "            self._im = a*math.sin(b)\n",
        "    \n",
        "    def __add__(self, other: float):\n",
        "        add_re = self._re+other._re\n",
        "        add_im = self._im+other._im\n",
        "        return ComplexNumber(add_re, add_im)\n",
        "    \n",
        "    def __sub__(self, other: float):\n",
        "        sub_re = self._re-other._re\n",
        "        sub_im = self._im-other._im\n",
        "        return ComplexNumber(sub_re, sub_im)\n",
        "    \n",
        "    def __mul__(self, other: float):\n",
        "        mul_re = self._re*other._re - self._im*other._im\n",
        "        mul_im = self._re*other._im + self._im*other._re\n",
        "        return ComplexNumber(mul_re, mul_im)\n",
        "    \n",
        "    def __truediv__(self, other: float):\n",
        "        div_re = (self._re*other._re + self._im*other._im) / (other._re**2 + other._im**2)\n",
        "        div_im = (other._re*self._im - self._re*other._im) / (other._re**2 + other._im**2)\n",
        "        return ComplexNumber(div_re, div_im)\n",
        "    \n",
        "    def __repr__(self, form='algebraic'):\n",
        "        if form == 'algebraic':\n",
        "            return '{re:.2f}+i*{im:.2f}'.format(re=self._re, im=self._im)\n",
        "\n",
        "        elif form == 'polar':\n",
        "            radius = (self._re**2 + self._im**2) ** 0.5\n",
        "            angle = 0\n",
        "\n",
        "            if (math.isclose(self._re, 0) and self._im > 0):\n",
        "                angle = math.pi/2\n",
        "            elif (math.isclose(self._re, 0) and self._im < 0):\n",
        "                angle = -math.pi/2\n",
        "            elif (self._re < 0 and self._im > 0):\n",
        "                angle = math.pi - math.atan(- self._im / self._re)\n",
        "            elif (self._re < 0 and self._im <= 0):\n",
        "                angle = math.pi + math.atan( self._im / self._re)\n",
        "            else:\n",
        "                angle = math.atan(self._im / self._re)\n",
        "\n",
        "            return '{radius:.2f}*(cos({angle:.2f}) + i*sin({angle:.2f}))'.format(radius=radius, angle=angle)\n",
        "    \n",
        "    def get_number(self, form='algebraic') -> Tuple[float, float]:\n",
        "        if form == 'algebraic':\n",
        "            return self._re, self._im\n",
        "        \n",
        "        elif form == 'polar':\n",
        "            radius = (self._re**2 + self._im**2) ** 0.5\n",
        "            angle = 0\n",
        "\n",
        "            if (math.isclose(self._re, 0) and self._im > 0):\n",
        "                angle = math.pi/2\n",
        "            elif (math.isclose(self._re, 0) and self._im < 0):\n",
        "                angle = -math.pi/2\n",
        "            elif (self._re < 0 and self._im > 0):\n",
        "                angle = math.pi - math.atan(- self._im / self._re)\n",
        "            elif (self._re < 0 and self._im <= 0):\n",
        "                angle = math.pi + math.atan( self._im / self._re)\n",
        "            else:\n",
        "                angle = math.atan(self._im / self._re)\n",
        "\n",
        "            return radius, angle\n"
      ]
    },
    {
      "cell_type": "code",
      "execution_count": null,
      "metadata": {
        "id": "E4uDiyeOMSm2",
        "outputId": "6c79428d-8c6d-40f2-db2c-ca8c52727384"
      },
      "outputs": [
        {
          "name": "stdout",
          "output_type": "stream",
          "text": [
            "Test 1 passed\n",
            "Test 2 passed\n",
            "Test 3 passed\n",
            "Test 4 passed\n",
            "Test 5 passed\n",
            "Test 6 passed\n",
            "Test 7 passed\n",
            "Test 8 passed\n",
            "Test 9 passed\n",
            "Test 10 passed\n",
            "Test 11 passed\n"
          ]
        }
      ],
      "source": [
        "# Тесты\n",
        "complex1 = ComplexNumber(a=2., b=5., form='algebraic')\n",
        "complex2 = ComplexNumber(a=3., b=4., form='algebraic')\n",
        "\n",
        "addition = complex1 + complex2\n",
        "substraction = complex1 - complex2\n",
        "multiplication = complex1 * complex2\n",
        "division = complex1 / complex2\n",
        "\n",
        "# Проверка алгебраических операций\n",
        "if addition.get_number() == (5., 9.):\n",
        "    print(\"Test 1 passed\")\n",
        "else:\n",
        "    print(\"Test 1 failed\")\n",
        "\n",
        "if substraction.get_number() == (-1., 1.):\n",
        "    print(\"Test 2 passed\")\n",
        "else:\n",
        "    print(\"Test 2 failed\")\n",
        "\n",
        "if multiplication.get_number() == (-14., 23.):\n",
        "    print(\"Test 3 passed\")\n",
        "else:\n",
        "    print(\"Test 3 failed\")\n",
        "    \n",
        "if division.get_number() == (1.04, 0.28):\n",
        "    print(\"Test 4 passed\")\n",
        "else:\n",
        "    print(\"Test 4 failed\")\n",
        "\n",
        "\n",
        "complex3 = ComplexNumber(a=5., b=math.atan(4/3), form='polar')  # математически то же самое, что и complex2\n",
        "\n",
        "# Проверка корректности ввода и вывода в различных формах записи\n",
        "if math.isclose(complex2.get_number(\"polar\")[0], 5.) and math.isclose(complex2.get_number(\"polar\")[1], math.atan(4/3)):\n",
        "    print(\"Test 5 passed\")\n",
        "else:\n",
        "    print(\"Test 5 failed\")\n",
        "\n",
        "if math.isclose(complex3.get_number(\"algebraic\")[0], 3.) and math.isclose(complex3.get_number(\"algebraic\")[1], 4.):\n",
        "    print(\"Test 6 passed\")\n",
        "else:\n",
        "    print(\"Test 6 failed\")\n",
        "\n",
        "if math.isclose(complex3.get_number(\"polar\")[0], 5.) and math.isclose(complex3.get_number(\"polar\")[1], math.atan(4/3)):\n",
        "    print(\"Test 7 passed\")\n",
        "else:\n",
        "    print(\"Test 7 failed\")\n",
        "\n",
        "# Проверка корректности вывода чисел в полярной форме\n",
        "if math.isclose(ComplexNumber(1, 1).get_number(\"polar\")[0], 2**0.5) and math.isclose(ComplexNumber(1, 1).get_number(\"polar\")[1], math.pi/4):\n",
        "    print(\"Test 8 passed\")\n",
        "else:\n",
        "    print(\"Test 8 failed\")\n",
        "\n",
        "if math.isclose(ComplexNumber(1, -1).get_number(\"polar\")[0], 2**0.5) and math.isclose(ComplexNumber(1, -1).get_number(\"polar\")[1], -math.pi/4):\n",
        "    print(\"Test 9 passed\")\n",
        "else:\n",
        "    print(\"Test 9 failed\")\n",
        "\n",
        "if math.isclose(ComplexNumber(-1, 1).get_number(\"polar\")[0], 2**0.5) and math.isclose(ComplexNumber(-1, 1).get_number(\"polar\")[1], 3*math.pi/4):\n",
        "    print(\"Test 10 passed\")\n",
        "else:\n",
        "    print(\"Test 10 failed\")\n",
        "\n",
        "if math.isclose(ComplexNumber(-1, -1).get_number(\"polar\")[0], 2**0.5) and math.isclose(ComplexNumber(-1, -1).get_number(\"polar\")[1], 5*math.pi/4):\n",
        "    print(\"Test 11 passed\")\n",
        "else:\n",
        "    print(\"Test 11 failed\")\n"
      ]
    },
    {
      "cell_type": "markdown",
      "metadata": {
        "id": "05uXB07WYGZg"
      },
      "source": [
        "__Задание 3 (2 балла):__ Опишите класс для векторов в N-мерном пространстве. В качестве основы  используйте список значений координат вектора, задаваемый `list`. Обеспечьте поддержку следующих операций: сложение, вычитание (с созданием нового вектора-результата), скалярное произведение, косинус угла, евклидова норма. Все операции, которые можно перегрузить с помощью магических методов, должны быть реализованы именно через них. Класс должен производить проверку консистентности аргументов для каждой операции и в случаях ошибок выбрасывать исключение `ValueError` с исчерпывающим объяснением ошибки."
      ]
    },
    {
      "cell_type": "code",
      "execution_count": null,
      "metadata": {
        "id": "-Ey9qFiiYGZh"
      },
      "outputs": [],
      "source": [
        "class Vector:\n",
        "    def __init__(self, vector_values_list: List[float]):\n",
        "        for i, value in enumerate(vector_values_list):\n",
        "            if not (isinstance(value, int) or isinstance(value, float)):\n",
        "                raise ValueError(\"Only numbers are allowed, You gave {}.\".format(value))\n",
        "            vector_values_list[i] = float(value)\n",
        "\n",
        "        self._values = list(vector_values_list)\n",
        "        self._len = len(vector_values_list)\n",
        "\n",
        "    def __add__(self, other):\n",
        "        if self._len != other._len:\n",
        "            raise ValueError(\"You gave vectors with different size: {} and {}.\".format(self._len, other._len))\n",
        "        \n",
        "        result_vector = []\n",
        "        for i in range(self._len):\n",
        "            result_vector.append(self._values[i] + other._values[i])\n",
        "\n",
        "        return Vector(result_vector)\n",
        "    \n",
        "    def __sub__(self, other):\n",
        "        if self._len != other._len:\n",
        "            raise ValueError(\"You gave vectors with different size: {} and {}.\".format(self._len, other._len))\n",
        "        \n",
        "        result_vector = []\n",
        "        for i in range(self._len):\n",
        "            result_vector.append(self._values[i] - other._values[i])\n",
        "\n",
        "        return Vector(result_vector)\n",
        "    \n",
        "    def __mul__(self, other):\n",
        "        if self._len != other._len:\n",
        "            raise ValueError(\"You gave vectors with different size: {} and {}.\".format(self._len, other._len))\n",
        "        \n",
        "        result_vector = []\n",
        "        for i in range(self._len):\n",
        "            result_vector.append(self._values[i] * other._values[i])\n",
        "\n",
        "        return Vector(result_vector)\n",
        "    \n",
        "    def scalar_product(self, other):\n",
        "        mul = Vector(self._values) * Vector(other._values)\n",
        "\n",
        "        return sum(mul._values)\n",
        "    \n",
        "    def norm(self):\n",
        "\n",
        "        return self.scalar_product(self)**0.5\n",
        "    \n",
        "    def cos(self, other):\n",
        "        numerator = self.scalar_product(other)\n",
        "        divider = self.norm()*other.norm()\n",
        "\n",
        "        return numerator / divider\n",
        "\n",
        "    def get_vector(self):\n",
        "        return self._values, self._len\n"
      ]
    },
    {
      "cell_type": "code",
      "execution_count": null,
      "metadata": {
        "id": "A-AdrhURMSm_",
        "outputId": "86bf4006-8329-48cd-9437-3a50ba54a8ba"
      },
      "outputs": [
        {
          "name": "stdout",
          "output_type": "stream",
          "text": [
            "Test 1.1 passed\n",
            "Test 1.2 passed\n",
            "Test 1.3 passed\n",
            "Test 2.1 passed\n",
            "Test 2.2 passed\n",
            "Test 2.3 passed\n",
            "Test 2.4 passed\n",
            "Test 2.5 passed\n",
            "Test 2.6 passed\n",
            "Test 3.1 passed\n",
            "Test 3.2 passed\n",
            "Test 3.3 passed\n",
            "Test 3.4 passed\n",
            "Test 3.5 passed\n"
          ]
        }
      ],
      "source": [
        "# Тесты\n",
        "\n",
        "# Проверка корректности создания вектора\n",
        "try:\n",
        "    Vector([1, 2])\n",
        "    Vector([1.0, 2.0])\n",
        "    Vector([1, 2.0])\n",
        "except:\n",
        "    print(\"Test 1.1 failed\")\n",
        "else:\n",
        "    print(\"Test 1.1 passed\")\n",
        "\n",
        "try:\n",
        "    Vector([1, \"str\"])\n",
        "except ValueError:\n",
        "    print(\"Test 1.2 passed\")\n",
        "except:\n",
        "    print(\"Test 1.2 failed (wrong exeption)\")\n",
        "else:\n",
        "    print(\"Test 1.2 failed (no exeption)\")\n",
        "\n",
        "try:\n",
        "    Vector([1, [1, 2, 3]])\n",
        "except ValueError:\n",
        "    print(\"Test 1.3 passed\")\n",
        "except:\n",
        "    print(\"Test 1.3 failed (wrong exeption)\")\n",
        "else:\n",
        "    print(\"Test 1.3 failed (no exeption)\")\n",
        "\n",
        "\n",
        "\n",
        "# Проверка работы магических методов\n",
        "vector1 = Vector([1, 2, 3])\n",
        "vector2 = Vector([3, 2, 1])\n",
        "\n",
        "if (vector1 + vector2).get_vector() != ([4, 4, 4], 3):\n",
        "    print(\"Test 2.1 failed\")\n",
        "else:\n",
        "    print(\"Test 2.1 passed\")\n",
        "\n",
        "if (vector1 - vector2).get_vector() != ([-2, 0, 2], 3):\n",
        "    print(\"Test 2.2 failed\")\n",
        "else:\n",
        "    print(\"Test 2.2 passed\")\n",
        "\n",
        "if (vector1 * vector2).get_vector() != ([3, 4, 3], 3):\n",
        "    print(\"Test 2.3 failed\")\n",
        "else:\n",
        "    print(\"Test 2.3 passed\")\n",
        "\n",
        "try:\n",
        "    Vector([1, 0]) + Vector([1, 2, 3])\n",
        "except ValueError:\n",
        "    print(\"Test 2.4 passed\")\n",
        "else:\n",
        "    print(\"Test 2.4 failed\")\n",
        "\n",
        "try:\n",
        "    Vector([1, 0]) - Vector([1, 2, 3])\n",
        "except ValueError:\n",
        "    print(\"Test 2.5 passed\")\n",
        "else:\n",
        "    print(\"Test 2.5 failed\")\n",
        "\n",
        "try:\n",
        "    Vector([1, 0]) * Vector([1, 2, 3])\n",
        "except ValueError:\n",
        "    print(\"Test 2.6 passed\")\n",
        "else:\n",
        "    print(\"Test 2.6 failed\")\n",
        "\n",
        "\n",
        "# Проверка остальных методов\n",
        "if vector1.scalar_product(vector2) == 10:\n",
        "    print(\"Test 3.1 passed\")\n",
        "else:\n",
        "    print(\"Test 3.1 failed\")\n",
        "\n",
        "if math.isclose(vector1.norm(), 14**0.5):\n",
        "    print(\"Test 3.2 passed\")\n",
        "else:\n",
        "    print(\"Test 3.2 failed\")\n",
        "\n",
        "if math.isclose(vector1.cos(vector2), 5/7):\n",
        "    print(\"Test 3.3 passed\")\n",
        "else:\n",
        "    print(\"Test 3.3 failed\")\n",
        "\n",
        "try:\n",
        "    Vector([1]).scalar_product(Vector([1, 2]))\n",
        "except:\n",
        "    print(\"Test 3.4 passed\")\n",
        "else:\n",
        "    print(\"TEst 3.4 failed\")\n",
        "\n",
        "try:\n",
        "    Vector([1]).cos(Vector([1, 2]))\n",
        "except:\n",
        "    print(\"Test 3.5 passed\")\n",
        "else:\n",
        "    print(\"TEst 3.5 failed\")"
      ]
    },
    {
      "cell_type": "markdown",
      "metadata": {
        "id": "vISfOMwnYGZh"
      },
      "source": [
        "__Задание 4 (2 балл):__ Опишите декоратор, который принимает на вход функцию и при каждом её вызове печатает строку \"This function was called N times\", где N - число раз, которое это функция была вызвана на текущий момент (пока функция существует как объект, это число, очевидно, может только неубывать)."
      ]
    },
    {
      "cell_type": "code",
      "execution_count": null,
      "metadata": {
        "id": "lLFd90smMSnD"
      },
      "outputs": [],
      "source": [
        "def calls_counter(func):\n",
        "    func.counter = 0\n",
        "    def __counter(*args, **kw):\n",
        "        func.counter += 1\n",
        "        result = func(*args, **kw)\n",
        "        print('The function was called {} times'.format(func.counter))\n",
        "        return result\n",
        "    \n",
        "    return __counter"
      ]
    },
    {
      "cell_type": "code",
      "execution_count": null,
      "metadata": {
        "id": "B9lNM96FMSnE"
      },
      "outputs": [],
      "source": [
        "@calls_counter\n",
        "def foo():\n",
        "    pass"
      ]
    },
    {
      "cell_type": "code",
      "execution_count": null,
      "metadata": {
        "id": "7SCSZsk5MSnF",
        "outputId": "1c46cae2-0b61-405c-c7b6-68b1683ab86b"
      },
      "outputs": [
        {
          "name": "stdout",
          "output_type": "stream",
          "text": [
            "The function was called 1 times\n",
            "The function was called 2 times\n",
            "The function was called 3 times\n",
            "The function was called 4 times\n",
            "The function was called 5 times\n",
            "\n",
            "После удаления:\n",
            "The function was called 1 times\n",
            "The function was called 2 times\n",
            "The function was called 3 times\n",
            "The function was called 4 times\n",
            "The function was called 5 times\n"
          ]
        }
      ],
      "source": [
        "# Тесты\n",
        "for i in range(5):\n",
        "    foo()\n",
        "\n",
        "del foo\n",
        "print(\"\\nПосле удаления:\")\n",
        "@calls_counter\n",
        "def foo():\n",
        "    pass\n",
        "\n",
        "for i in range(5):\n",
        "    foo()"
      ]
    },
    {
      "cell_type": "markdown",
      "metadata": {
        "id": "r-1_Wll0YGZi"
      },
      "source": [
        "__Задание 5 (3 балла):__ Опишите декоратор класса, который принимает на вход другой класс и снабжает декорируемый класс всеми атрибутами входного класса, названия которых НЕ начинаются с \"\\_\". В случае конфликтов имён импортируемый атрибут должен получить имя с суффиксом \"\\_new\"."
      ]
    },
    {
      "cell_type": "code",
      "execution_count": null,
      "metadata": {
        "id": "hAK-sxO5YGZj"
      },
      "outputs": [],
      "source": [
        "def copy_class_attrs(cls):\n",
        "    def _decorate(dec_cls):\n",
        "        for f in cls.__dict__:\n",
        "            if not f.startswith(\"_\") and not hasattr(dec_cls, f):\n",
        "                setattr(dec_cls, f, getattr(cls, f))\n",
        "            elif  not f.startswith(\"_\") and hasattr(dec_cls, f):\n",
        "                setattr(dec_cls, \"_new\" + f, getattr(cls, f))\n",
        "        return dec_cls\n",
        "    return _decorate"
      ]
    },
    {
      "cell_type": "code",
      "execution_count": null,
      "metadata": {
        "id": "K7dYsD3MMSnH",
        "outputId": "b111f9e3-0343-4b20-cfe8-7d50ffc662b6"
      },
      "outputs": [
        {
          "data": {
            "text/plain": [
              "['scalar_product', 'norm', 'cos', 'get_vector']"
            ]
          },
          "execution_count": 220,
          "metadata": {},
          "output_type": "execute_result"
        }
      ],
      "source": [
        "# Тест\n",
        "# Для тестирования воспользуемся клсссом Vector. Выведем его атрибуты, не начинающиеся с \"_\"\n",
        "vector_attr = [f for f in Vector.__dict__ if not f.startswith(\"_\")]\n",
        "vector_attr"
      ]
    },
    {
      "cell_type": "code",
      "execution_count": null,
      "metadata": {
        "id": "VcjSMKmAMSnI"
      },
      "outputs": [],
      "source": [
        "class test_cls1:\n",
        "    def __init__(self, value):\n",
        "        self._value = value\n",
        "\n",
        "    def get_value(self):\n",
        "        return self._value\n",
        "    \n",
        "    def norm(self):\n",
        "        return self._value ** 2\n",
        "\n",
        "\n",
        "@copy_class_attrs(Vector)\n",
        "class test_cls2:\n",
        "    def __init__(self, value):\n",
        "        self._value = value\n",
        "\n",
        "    def get_value(self):\n",
        "        return self._value\n",
        "    \n",
        "    def norm(self):\n",
        "        return self._value ** 2"
      ]
    },
    {
      "cell_type": "code",
      "execution_count": null,
      "metadata": {
        "id": "vgnsd4pcMSnJ",
        "outputId": "14c7de23-b7f0-4537-f78b-f8e68f8b2e78"
      },
      "outputs": [
        {
          "data": {
            "text/plain": [
              "['_newnorm', 'cos', 'get_vector', 'scalar_product']"
            ]
          },
          "execution_count": 217,
          "metadata": {},
          "output_type": "execute_result"
        }
      ],
      "source": [
        "dif_attr = list(set(test_cls2.__dict__) - set(test_cls1.__dict__)) # Добавившиеся отрибуты после применения декоратора\n",
        "dif_attr"
      ]
    },
    {
      "cell_type": "markdown",
      "metadata": {
        "id": "n01hL1UVMSnK"
      },
      "source": [
        "Тест пройден успешно."
      ]
    },
    {
      "cell_type": "markdown",
      "metadata": {
        "id": "Oy2NpADsYGZj"
      },
      "source": [
        "__Задание 6 (7 баллов):__ Опишите класс для хранения двумерных числовых матриц на основе списков. Реализуйте поддержку индексирования, итерирования по столбцам и строкам, по-элементные математические операции (с помощью магических методов), операцию умножения матрицы (как метод `dot` класса), транспонирование, поиска следа матрицы, а также поиск значения её определителя, если он существует, в противном случае соответствующий метод должен выводить сообщение об ошибке и возвращать `None`.\n",
        "\n",
        "Матрицу должно быть возможным создать из списка (в этом случае у неё будет одна строка), списка списков, или же передав явно три числа: число строк, число столбцов и значение по-умолчанию (которое можно не задавать, в этом случае оно принимается равным нулю). Все операции должны проверять корректность входных данных и выбрасывать исключение с информативным сообщением в случае ошибки.\n",
        "\n",
        "Матрица должна поддерживать методы сохранения на диск в текстовом и бинарном файле и методы обратной загрузки с диска для обоих вариантов. Также она должна поддерживать метод полного копирования. Обе процедуры должны быть реализованы с помощью шаблона \"примесь\" (Mixin), т.е. указанные функциональности должны быть описаны в специализированных классах.\n",
        "\n",
        "В реализации математических операций запрещается пользоваться любыми функциями, требующими использования оператора `import`."
      ]
    },
    {
      "cell_type": "code",
      "execution_count": null,
      "metadata": {
        "id": "J3S6nAgIMSnL"
      },
      "outputs": [],
      "source": [
        "import os\n",
        "import random\n",
        "import string\n",
        "import pickle\n",
        "from copy import deepcopy\n",
        "\n",
        "class DeepCopyMixin():\n",
        "\n",
        "    def copy(self):\n",
        "        return deepcopy(self)\n",
        "\n",
        "\n",
        "class BinarySave():\n",
        "\n",
        "    def bsave(self):\n",
        "        path = ''.join(random.choice(string.ascii_letters) for _ in range(10))\n",
        "        while os.path.isfile(path):\n",
        "            path = ''.join(random.choice(string.ascii_letters) for _ in range(10))\n",
        "\n",
        "        with open(path + '.pkl', 'wb') as fout:\n",
        "            pickle.dump(self, fout)\n",
        "            return path + '.pkl'\n",
        "        \n",
        "    @staticmethod\n",
        "    def bload(path):\n",
        "        with open(path, 'rb') as fin:\n",
        "            return pickle.load(fin)\n",
        "        \n",
        "\n",
        "class TextSave():\n",
        "\n",
        "    def tsave(self):\n",
        "        path = ''.join(random.choice(string.ascii_letters) for _ in range(10))\n",
        "        while os.path.isfile(path):\n",
        "            path = ''.join(random.choice(string.ascii_letters) for _ in range(10))\n",
        "\n",
        "        with open(path + '.txt', 'w') as fout:\n",
        "            fout.write(str(self)+'\\n')\n",
        "            return path + '.txt'\n",
        "        \n",
        "    @staticmethod\n",
        "    def tload(path):\n",
        "        with open(path, 'r') as fin:\n",
        "            return fin.readlines()\n",
        "\n"
      ]
    },
    {
      "cell_type": "code",
      "execution_count": null,
      "metadata": {
        "id": "2P3RP5YwYGZk"
      },
      "outputs": [],
      "source": [
        "class Matrix(DeepCopyMixin, BinarySave, TextSave):\n",
        "    def __init__(self, values):\n",
        "\n",
        "        if isinstance(values, tuple):\n",
        "            if len(values) == 2:\n",
        "                if not (isinstance(values[0], int) and isinstance(values[1], int)):\n",
        "                    raise ValueError(\"Нецелое количество строк или столбцов\")\n",
        "                matrix = []\n",
        "                for _ in range(values[0]):\n",
        "                    row = []\n",
        "                    for _ in range(values[1]):\n",
        "                        row.append(0.)\n",
        "                    matrix.append(row)\n",
        "\n",
        "                self._values = matrix\n",
        "                self._n_rows = values[0]\n",
        "                self._n_columns = values[1]\n",
        "\n",
        "            elif len(values) == 3:\n",
        "                if not (isinstance(values[0], int) and isinstance(values[1], int)):\n",
        "                    raise ValueError(\"Нецелое количество строк или столбцов\")\n",
        "                if not (isinstance(values[2], float) or isinstance(values[2], int)):\n",
        "                    raise ValueError(\"Матрица состоит не из чисел\")\n",
        "                \n",
        "                matrix = []\n",
        "                for _ in range(values[0]):\n",
        "                    row = []\n",
        "                    for _ in range(values[1]):\n",
        "                        row.append(float(values[2]))\n",
        "                    matrix.append(row)\n",
        "                \n",
        "                self._values = matrix\n",
        "                self._n_rows = values[0]\n",
        "                self._n_columns = values[1]\n",
        "\n",
        "            else:\n",
        "                raise ValueError(\"Неожидаемая длина кортежа\")     \n",
        "        \n",
        "        elif isinstance(values, list):\n",
        "            num_counts = sum([isinstance(x, int) or isinstance(x, float) for x in values])\n",
        "            list_counts = sum([isinstance(x, list) for x in values])\n",
        "\n",
        "            if num_counts == len(values):\n",
        "                matrix = []\n",
        "                for number in values:\n",
        "                    matrix.append(float(number))\n",
        "\n",
        "                self._values = [matrix]\n",
        "                self._n_rows = 1\n",
        "                self._n_columns = len(values)\n",
        "            \n",
        "            elif list_counts == len(values):\n",
        "                matrix = []\n",
        "\n",
        "                n_columns = len(values[0])\n",
        "                for row in values:\n",
        "                    num_counts = sum([isinstance(x, int) or isinstance(x, float) for x in row])\n",
        "\n",
        "                    if num_counts != len(row):\n",
        "                        raise ValueError(\"Матрица состоит не из чисел\")\n",
        "                    if n_columns != len(row):\n",
        "                        raise ValueError(\"Строки разной длины\")\n",
        "\n",
        "                    matrix.append([float(x) for x in row])\n",
        "                    \n",
        "                self._values = matrix\n",
        "                self._n_rows = len(values)\n",
        "                self._n_columns = n_columns\n",
        "                    \n",
        "            else:\n",
        "                raise ValueError(\"Строки неверного формата\")\n",
        "            \n",
        "        else:\n",
        "            raise ValueError(\"Матрица неверного формата\")\n",
        "\n",
        "\n",
        "    def __str__(self):\n",
        "        matrix_str = ''\n",
        "        for row in self.rows_iterator():\n",
        "            for number in row:\n",
        "                matrix_str += str(number) + ' '\n",
        "            matrix_str += '\\n'\n",
        "\n",
        "        return matrix_str\n",
        "\n",
        "\n",
        "    def __getitem__(self, key):\n",
        "        return self._values[key]\n",
        "\n",
        "\n",
        "    def rows_iterator(self):\n",
        "        for i in range(self._n_rows):\n",
        "            yield self._values[i]\n",
        "\n",
        "\n",
        "    def columns_iterator(self):\n",
        "        for i in range(self._n_columns):\n",
        "            column = []\n",
        "            for j in range(self._n_rows):\n",
        "                column.append(self._values[j][i])\n",
        "            yield column\n",
        "\n",
        "\n",
        "    def __mul__(self, other):\n",
        "        if (self._n_columns, self._n_rows) != (other._n_columns, other._n_rows):\n",
        "            raise ValueError(\"Матрицы разных размеров\")\n",
        "        \n",
        "        matrix = []\n",
        "        for i in range(self._n_rows):\n",
        "            row = []\n",
        "            for j in range(self._n_columns):\n",
        "                row.append(self._values[i][j] * other._values[i][j])\n",
        "            matrix.append(row)\n",
        "\n",
        "        return Matrix(matrix)\n",
        "\n",
        "\n",
        "    def __add__(self, other):\n",
        "        if (self._n_columns, self._n_rows) != (other._n_columns, other._n_rows):\n",
        "            raise ValueError(\"Матрицы разных размеров\")\n",
        "        \n",
        "        matrix = []\n",
        "        for i in range(self._n_rows):\n",
        "            row = []\n",
        "            for j in range(self._n_columns):\n",
        "                row.append(self._values[i][j] + other._values[i][j])\n",
        "            matrix.append(row)\n",
        "\n",
        "        return Matrix(matrix)    \n",
        "\n",
        "\n",
        "    def __sub__(self, other):\n",
        "        if (self._n_columns, self._n_rows) != (other._n_columns, other._n_rows):\n",
        "            raise ValueError(\"Матрицы разных размеров\")\n",
        "        \n",
        "        matrix = []\n",
        "        for i in range(self._n_rows):\n",
        "            row = []\n",
        "            for j in range(self._n_columns):\n",
        "                row.append(self._values[i][j] - other._values[i][j])\n",
        "            matrix.append(row)\n",
        "\n",
        "        return Matrix(matrix)\n",
        "\n",
        "\n",
        "    def __truediv__(self, other):\n",
        "        if (self._n_columns, self._n_rows) != (other._n_columns, other._n_rows):\n",
        "            raise ValueError(\"Матрицы разных размеров\")\n",
        "        \n",
        "        matrix = []\n",
        "        for i in range(self._n_rows):\n",
        "            row = []\n",
        "            for j in range(self._n_columns):\n",
        "                    row.append(self._values[i][j] / other._values[i][j])\n",
        "            matrix.append(row)\n",
        "\n",
        "        return Matrix(matrix)\n",
        "\n",
        "\n",
        "    def dot(self, other):\n",
        "        if self._n_columns != other._n_rows:\n",
        "            raise ValueError(\"Нельзя перемножить матрицы таких размеров\")\n",
        "\n",
        "        matrix = []\n",
        "        for row in self.rows_iterator():\n",
        "            new_row = []\n",
        "            for column in other.columns_iterator():\n",
        "                element = sum((Matrix(row)*Matrix(column))._values[0])\n",
        "                new_row.append(element)\n",
        "            matrix.append(new_row)\n",
        "        \n",
        "        return Matrix(matrix)\n",
        "\n",
        "\n",
        "    def transpose(self):\n",
        "        matrix = []\n",
        "        for column in self.columns_iterator():\n",
        "            matrix.append(column)\n",
        "\n",
        "        return Matrix(matrix)\n",
        "\n",
        "    \n",
        "    def tr(self):\n",
        "        if self._n_columns != self._n_rows:\n",
        "            raise ValueError(\"Матрица должна быть квадратной\")\n",
        "        \n",
        "        tr = 0\n",
        "        for i in range(self._n_rows):\n",
        "            tr += self._values[i][i]\n",
        "\n",
        "        return tr\n",
        "\n",
        "\n",
        "    def det(self):\n",
        "        if self._n_columns != self._n_rows:\n",
        "            print(\"Матрица должна быть квадратной\")\n",
        "            return None\n",
        "        \n",
        "        if self._n_columns == 2:\n",
        "            return self._values[0][0]*self._values[1][1] - self._values[0][1]*self._values[1][0]\n",
        "        else:\n",
        "\n",
        "            determinant = 0\n",
        "            for i in range(self._n_columns):\n",
        "                minor = []\n",
        "                itr = self.rows_iterator()\n",
        "                next(itr)\n",
        "                for row in itr:\n",
        "                    copy_row = row.copy()\n",
        "                    copy_row.pop(i)\n",
        "                    minor.append(copy_row)\n",
        "                \n",
        "                determinant += (-1)**i * self._values[0][i] * Matrix(minor).det()\n",
        "            return determinant\n",
        "\n",
        "\n",
        "    @staticmethod\n",
        "    def tload(path):\n",
        "        text_matrix = [x.strip().split() for x in TextSave.tload(path) if x.strip()]\n",
        "        matrix = []\n",
        "\n",
        "        for txt_row in text_matrix:\n",
        "            row = [float(x) for x in txt_row]\n",
        "            matrix.append(row)\n",
        "        \n",
        "        return Matrix(matrix)\n",
        "\n",
        "\n",
        "    def get_values(self):\n",
        "        return (self._values, self._n_rows, self._n_columns)"
      ]
    },
    {
      "cell_type": "code",
      "execution_count": null,
      "metadata": {
        "id": "6oMplCgTMSnP",
        "outputId": "2721d3b1-1adb-4aa1-af72-896db441a7da"
      },
      "outputs": [
        {
          "name": "stdout",
          "output_type": "stream",
          "text": [
            "Test 1.1 passed\n",
            "Test 1.2 passed\n",
            "Test 1.3 passed\n",
            "Test 1.4 passed\n",
            "Test 1.5 passed\n",
            "Test 1.6 passed\n",
            "Test 1.7 passed\n",
            "Test 1.8 passed\n",
            "Test 1.9 passed\n",
            "Test 1.10 passed\n",
            "Test 1.11 passed\n"
          ]
        }
      ],
      "source": [
        "# Тесты инициализации\n",
        "\n",
        "# Проверка правильности записи при корректном вводе \n",
        "matrix1 = Matrix([[1., 2, 3],\n",
        "                  [3, 4, 6]])\n",
        "matrix2 = Matrix([7., 8, 9])\n",
        "matrix3 = Matrix((2, 2))\n",
        "matrix4 = Matrix((2, 2, 2.5))\n",
        "\n",
        "if matrix1.get_values() == ([[1., 2., 3.], [3., 4., 6.]], 2, 3):\n",
        "    print(\"Test 1.1 passed\")\n",
        "else:\n",
        "    print(\"Test 1.1 failed\")\n",
        "\n",
        "if matrix2.get_values() == ([[7., 8., 9.]], 1, 3):\n",
        "    print(\"Test 1.2 passed\")\n",
        "else:\n",
        "    print(\"Test 1.2 failed\")\n",
        "\n",
        "if matrix3.get_values() == ([[0., 0.], [0., 0.]], 2, 2):\n",
        "    print(\"Test 1.3 passed\")\n",
        "else:\n",
        "    print(\"Test 1.3 failed\")\n",
        "\n",
        "if matrix4.get_values() == ([[2.5, 2.5], [2.5, 2.5]], 2, 2):\n",
        "    print(\"Test 1.4 passed\")\n",
        "else:\n",
        "    print(\"Test 1.4 failed\")\n",
        "\n",
        "# Проверка некорректного кортежа\n",
        "try:\n",
        "    Matrix((2.3, 3))\n",
        "except ValueError:\n",
        "    print(\"Test 1.5 passed\")\n",
        "else:\n",
        "    print(\"Test 1.5 failed\")\n",
        "\n",
        "try:\n",
        "    Matrix((2, 3, 4, 5))\n",
        "except ValueError:\n",
        "    print(\"Test 1.6 passed\")\n",
        "else:\n",
        "    print(\"Test 1.6 failed\")\n",
        "\n",
        "try:\n",
        "    Matrix((2, 3, \"a\"))\n",
        "except ValueError:\n",
        "    print(\"Test 1.7 passed\")\n",
        "else:\n",
        "    print(\"Test 1.7 failed\")\n",
        "\n",
        "# Проверка некорректного списка\n",
        "try:\n",
        "    Matrix([1, 2, \"3\"])\n",
        "except ValueError:\n",
        "    print(\"Test 1.8 passed\")\n",
        "else:\n",
        "    print(\"Test 1.8 failed\")\n",
        "\n",
        "try:\n",
        "    Matrix([1, 2, [3]])\n",
        "except ValueError:\n",
        "    print(\"Test 1.9 passed\")\n",
        "else:\n",
        "    print(\"Test 1.9 failed\")\n",
        "\n",
        "# Проверка некорректного двумерного списка\n",
        "try:\n",
        "    Matrix([[1, 2, 3], [4, 5, '6']])\n",
        "except ValueError:\n",
        "    print(\"Test 1.10 passed\")\n",
        "else:\n",
        "    print(\"Test 1.10 failed\")\n",
        "\n",
        "try:\n",
        "    Matrix([[1, 2, 3], [4, 5]])\n",
        "except ValueError:\n",
        "    print(\"Test 1.11 passed\")\n",
        "else:\n",
        "    print(\"Test 1.11 failed\")"
      ]
    },
    {
      "cell_type": "code",
      "execution_count": null,
      "metadata": {
        "id": "-tJ3H8itMSnR",
        "outputId": "273d0792-ef4d-4dcf-b3e4-7c5a707bddb7"
      },
      "outputs": [
        {
          "name": "stdout",
          "output_type": "stream",
          "text": [
            "Test 2.1.1 passed\n",
            "Test 2.1.2 passed\n",
            "Test 2.2.1 passed\n",
            "Test 2.2.2 passed\n",
            "Test 2.3.1 passed\n",
            "Test 2.3.2 passed\n",
            "Test 2.4.1 passed\n",
            "Test 2.4.2 passed\n",
            "Test 2.5 passed\n",
            "Test 2.6 passed\n"
          ]
        }
      ],
      "source": [
        "# Тесты магических методов\n",
        "matrix1 = Matrix([[1, 2],\n",
        "                  [3, 4]])\n",
        "matrix2 = Matrix([[0, 1],\n",
        "                  [2, 3]])\n",
        "\n",
        "if (matrix1 + matrix2).get_values() != ([[1, 3], [5, 7]], 2, 2):\n",
        "    print(\"Test 2.1.1 failed\")\n",
        "else:\n",
        "    print(\"Test 2.1.1 passed\")\n",
        "\n",
        "try:\n",
        "    Matrix((2, 2, 2)) + Matrix((2, 3))\n",
        "except ValueError:\n",
        "    print(\"Test 2.1.2 passed\")\n",
        "else:\n",
        "    print(\"Test 2.1.2 failed\")\n",
        "\n",
        "\n",
        "if (matrix1 - matrix2).get_values() != ([[1, 1], [1, 1]], 2, 2):\n",
        "    print(\"Test 2.2.1 failed\")\n",
        "else:\n",
        "    print(\"Test 2.2.1 passed\")\n",
        "\n",
        "try:\n",
        "    Matrix((2, 2, 2)) - Matrix((2, 3))\n",
        "except ValueError:\n",
        "    print(\"Test 2.2.2 passed\")\n",
        "else:\n",
        "    print(\"Test 2.2.2 failed\")\n",
        "\n",
        "\n",
        "if (matrix1 * matrix2).get_values() != ([[0, 2], [6, 12]], 2, 2):\n",
        "    print(\"Test 2.3.1 failed\")\n",
        "else:\n",
        "    print(\"Test 2.3.1 passed\")\n",
        "\n",
        "try:\n",
        "    Matrix((2, 2, 2)) - Matrix((2, 3))\n",
        "except ValueError:\n",
        "    print(\"Test 2.3.2 passed\")\n",
        "else:\n",
        "    print(\"Test 2.3.2 failed\")\n",
        "\n",
        "\n",
        "if (matrix2 / matrix1).get_values() != ([[0, 1/2], [2/3, 3/4]], 2, 2):\n",
        "    print(\"Test 2.4.1 failed\")\n",
        "else:\n",
        "    print(\"Test 2.4.1 passed\")\n",
        "\n",
        "try:\n",
        "    matrix1 / matrix2\n",
        "except ZeroDivisionError:\n",
        "    print(\"Test 2.4.2 passed\")\n",
        "else:\n",
        "    print(\"Test 2.4.2 failed\")\n",
        "\n",
        "\n",
        "if str(matrix1) == '1.0 2.0 \\n3.0 4.0 \\n':\n",
        "    print(\"Test 2.5 passed\")\n",
        "else:\n",
        "    print(\"Test 2.5 failed\")\n",
        "\n",
        "\n",
        "if matrix1[0] == [1, 2] and matrix1[0][0] == 1 and matrix1[1][1:] == [4]:\n",
        "    print(\"Test 2.6 passed\")\n",
        "else:\n",
        "    print(\"Test 2.6 failed\")\n"
      ]
    },
    {
      "cell_type": "code",
      "execution_count": null,
      "metadata": {
        "id": "W2DjfrULMSnS",
        "outputId": "675de8bf-d2de-4aaa-af26-e1574812370a"
      },
      "outputs": [
        {
          "name": "stdout",
          "output_type": "stream",
          "text": [
            "Test 3.0.1 passed\n",
            "Test 3.0.2 passed\n"
          ]
        }
      ],
      "source": [
        "# Поверка итераторов\n",
        "matrix1 = Matrix([[0, 1, 2],\n",
        "                  [3, 4, 5],\n",
        "                  [6, 7, 8]])\n",
        "\n",
        "itr1 = matrix1.rows_iterator()\n",
        "if next(itr1) == [0, 1, 2] and next(itr1) == [3, 4, 5] and next(itr1) == [6, 7, 8]:\n",
        "    try:\n",
        "        next(itr1)\n",
        "    except StopIteration:\n",
        "        print(\"Test 3.0.1 passed\")\n",
        "    else:\n",
        "        print(\"Test 3.0.1 failed\")\n",
        "else:\n",
        "    print(\"Test 3.0.1 failed\")\n",
        "\n",
        "\n",
        "itr1 = matrix1.columns_iterator()\n",
        "if next(itr1) == [0, 3, 6] and next(itr1) == [1, 4, 7] and next(itr1) == [2, 5, 8]:\n",
        "    try:\n",
        "        next(itr1)\n",
        "    except StopIteration:\n",
        "        print(\"Test 3.0.2 passed\")\n",
        "    else:\n",
        "        print(\"Test 3.0.2 failed\")\n",
        "else:\n",
        "    print(\"Test 3.0.2 failed\")"
      ]
    },
    {
      "cell_type": "code",
      "execution_count": null,
      "metadata": {
        "id": "zU3hk8E-MSnU",
        "outputId": "09102502-9416-4f3d-82e1-74e94f561b17"
      },
      "outputs": [
        {
          "name": "stdout",
          "output_type": "stream",
          "text": [
            "Test 3.1 passed\n",
            "Test 3.2.1 passed\n",
            "Test 3.2.2 passed\n",
            "Test 3.3.1 passed\n",
            "Test 3.3.2 passed\n",
            "Test 3.4.1 passed\n",
            "Матрица должна быть квадратной\n",
            "Test 3.4.2 passed\n"
          ]
        }
      ],
      "source": [
        "# Тесты публичных методов\n",
        "matrix1 = Matrix([[0, 1, 2],\n",
        "                  [3, 4, 5],\n",
        "                  [6, 7, 8]])\n",
        "\n",
        "matrix2 = Matrix([[3, 4, 5],\n",
        "                  [6, 7, 8]])\n",
        "\n",
        "\n",
        "if matrix2.transpose().get_values() == ([[3.0, 6.0],\n",
        "                                         [4.0, 7.0],\n",
        "                                         [5.0, 8.0]], 3, 2):\n",
        "    print(\"Test 3.1 passed\")\n",
        "else:\n",
        "    print(\"Test 3.1 failed\")\n",
        "\n",
        "\n",
        "if matrix1.tr() == 12:\n",
        "    print(\"Test 3.2.1 passed\")\n",
        "else:\n",
        "    print(\"Test 3.2.1 failed\")\n",
        "\n",
        "try:\n",
        "    matrix2.tr()\n",
        "except ValueError:\n",
        "    print(\"Test 3.2.2 passed\")\n",
        "else:\n",
        "    print(\"Test 3.2.2 failed\")\n",
        "\n",
        "\n",
        "if matrix1.dot(matrix2.transpose()).get_values() == ([[14.0, 23.0],\n",
        "                                         [50.0, 86.0],\n",
        "                                         [86.0, 149.0]], 3, 2):\n",
        "    print(\"Test 3.3.1 passed\")\n",
        "else:\n",
        "    print(\"Test 3.3.1 failed\")\n",
        "\n",
        "try:\n",
        "    matrix1.dot(matrix2)\n",
        "except ValueError:\n",
        "    print(\"Test 3.3.2 passed\")\n",
        "else:\n",
        "    print(\"Test 3.3.2 failed\")\n",
        "\n",
        "\n",
        "if Matrix([[1, 2, 3], [4, 5, 6], [7, 8, 10]]).det() == -3:\n",
        "    print(\"Test 3.4.1 passed\")\n",
        "else:\n",
        "    print(\"Test 3.4.1 failed\")\n",
        "\n",
        "if matrix2.det() is None:\n",
        "    print(\"Test 3.4.2 passed\")\n",
        "else:\n",
        "    print(\"Test 3.4.2 failed\")\n"
      ]
    },
    {
      "cell_type": "code",
      "execution_count": null,
      "metadata": {
        "id": "U2iCB9hZMSnV"
      },
      "outputs": [],
      "source": [
        "# Проверка глубокого копирования"
      ]
    },
    {
      "cell_type": "code",
      "execution_count": null,
      "metadata": {
        "id": "ZNlgwpCWMSnX",
        "outputId": "7c26841c-f35d-4c9e-ac5d-5db45269d895"
      },
      "outputs": [
        {
          "data": {
            "text/plain": [
              "[[5.0, 5.0, 6.0], [5.0, 6.0, 7.0]]"
            ]
          },
          "execution_count": 120,
          "metadata": {},
          "output_type": "execute_result"
        }
      ],
      "source": [
        "a = Matrix([[5, 5, 6],\n",
        "            [5, 6, 7]])\n",
        "\n",
        "a_str = a.tsave()\n",
        "b = Matrix.tload(a_str)\n",
        "b._values"
      ]
    },
    {
      "cell_type": "code",
      "execution_count": null,
      "metadata": {
        "id": "fhwY3JSFMSnY"
      },
      "outputs": [],
      "source": [
        "a = Matrix([[5, 5, 6],\n",
        "            [5, 6, 7]])\n",
        "\n",
        "a_str = a.bsave()\n",
        "b = BinarySave.bload(a_str)\n",
        "b._values\n"
      ]
    },
    {
      "cell_type": "code",
      "execution_count": null,
      "metadata": {
        "id": "BFHubF-xMSnZ",
        "outputId": "e2da7aa5-7722-45e6-d99a-11efb76cd7f3"
      },
      "outputs": [
        {
          "data": {
            "text/plain": [
              "([[5.0, 5.0, 6.0], [5.0, 6.0, 7.0]], [[1000, 5.0, 6.0], [1, 2, 3]])"
            ]
          },
          "execution_count": 8,
          "metadata": {},
          "output_type": "execute_result"
        }
      ],
      "source": [
        "a = Matrix([[5, 5, 6],\n",
        "            [5, 6, 7]])\n",
        "b = a.copy()\n",
        "a._values[0][0] = 1000\n",
        "a._values[1] = [1, 2, 3]\n",
        "b._values, a._values"
      ]
    },
    {
      "cell_type": "code",
      "execution_count": null,
      "metadata": {
        "id": "mnur5EuMMSna",
        "outputId": "267b3843-0a46-4725-d590-470f2f5bf72f"
      },
      "outputs": [
        {
          "data": {
            "text/plain": [
              "([[1, 2, 3], [1, 3]], [[10, 2, 3], [1, 3]])"
            ]
          },
          "execution_count": 10,
          "metadata": {},
          "output_type": "execute_result"
        }
      ],
      "source": [
        "import copy\n",
        "a = [[1, 2 , 3], [1, 3]]\n",
        "b = copy.deepcopy(a)\n",
        "b[0][0] = 10\n",
        "a, b"
      ]
    },
    {
      "cell_type": "code",
      "execution_count": null,
      "metadata": {
        "id": "pDrJePWNMSnb",
        "outputId": "18068de1-1737-475a-e46e-b885704658d3"
      },
      "outputs": [
        {
          "data": {
            "text/plain": [
              "[[60.0, 76.0, 92.0], [70.0, 88.0, 106.0]]"
            ]
          },
          "execution_count": 11,
          "metadata": {},
          "output_type": "execute_result"
        }
      ],
      "source": [
        "a = Matrix([[5, 5, 6],\n",
        "            [5, 6, 7]])\n",
        "b = Matrix([[1, 2, 3],\n",
        "            [5, 6, 7],\n",
        "            [5, 6, 7]])\n",
        "c = a.dot(b)\n",
        "c._values"
      ]
    },
    {
      "cell_type": "code",
      "execution_count": null,
      "metadata": {
        "id": "YM0MUqcDMSnc",
        "outputId": "0b80f974-32bb-4024-b02f-8a982a0854a5"
      },
      "outputs": [
        {
          "data": {
            "text/plain": [
              "14.0"
            ]
          },
          "execution_count": 12,
          "metadata": {},
          "output_type": "execute_result"
        }
      ],
      "source": [
        "a = Matrix([[5, 5, 6],\n",
        "            [5, 6, 7],\n",
        "            [1, 2, 3]])\n",
        "a.tr()"
      ]
    },
    {
      "cell_type": "code",
      "execution_count": null,
      "metadata": {
        "id": "SKnclN5KMSnd",
        "outputId": "56128d90-d49f-40cc-8f59-f4fa066b5bba"
      },
      "outputs": [
        {
          "data": {
            "text/plain": [
              "[[1.0, 4.0, 7.0], [2.0, 5.0, 8.0], [3.0, 6.0, 9.0]]"
            ]
          },
          "execution_count": 13,
          "metadata": {},
          "output_type": "execute_result"
        }
      ],
      "source": [
        "a = Matrix([[1, 2, 3],\n",
        "            [4, 5, 6],\n",
        "            [7, 8, 9]])\n",
        "a.transpose()._values"
      ]
    },
    {
      "cell_type": "code",
      "execution_count": null,
      "metadata": {
        "id": "5hOLqIKrMSnd",
        "outputId": "2b4229b8-093b-496d-f8f4-edf9246e3c19"
      },
      "outputs": [
        {
          "data": {
            "text/plain": [
              "1080.0"
            ]
          },
          "execution_count": 14,
          "metadata": {},
          "output_type": "execute_result"
        }
      ],
      "source": [
        "a = Matrix([[1, 2, 3, 4],\n",
        "            [4, 10, 6, 7],\n",
        "            [7, 8, 9, 10],\n",
        "            [2, 4, 6, -10]])\n",
        "\n",
        "a.det()"
      ]
    },
    {
      "cell_type": "code",
      "execution_count": null,
      "metadata": {
        "id": "BGV08z4tMSne",
        "outputId": "763c4090-b372-4ae8-f1c4-285f9988ad63"
      },
      "outputs": [
        {
          "data": {
            "text/plain": [
              "[[0.0, 0.0, 0.0, 4], [0.0, 0.0, 0.0, 0.0]]"
            ]
          },
          "execution_count": 15,
          "metadata": {},
          "output_type": "execute_result"
        }
      ],
      "source": [
        "a = Matrix((3, 4))\n",
        "a[0][3]\n",
        "a[0][3] = 4\n",
        "a[0:2]"
      ]
    },
    {
      "cell_type": "markdown",
      "metadata": {
        "id": "BSOp5W_zYGZl"
      },
      "source": [
        "__Задание 7 (3 балла):__ Ставится задача расчета стоимости чашки кофе. Опишите классы нескольких типов кофе (латте, капучино, американо), а также классы добавок к кофе (сахар, сливки, кардамон, пенка, сироп). Используйте шаблон \"декоратор\". Каждый класс должен характеризоваться методом вычисления стоимости чашки `calculate_cost`. Пользователь должен иметь возможность комбинировать любое число добавок с выбранным кофе и получить на выходе общую стоимость:\n",
        "\n",
        "```\n",
        "Cream(Sugar(Latte())).calculate_cost()\n",
        "```\n",
        "\n",
        "Первым элементом чашки всегда должен быть сам кофе, а не добавка, в противном случае при попытке создания чашки должно выбрасываться исключение:\n",
        "\n",
        "```\n",
        "Cream(Latte(Sugar())).calculate_cost() -> exception\n",
        "```\n",
        "\n",
        "Кофе может встречаться в чашке только один раз, в противном случае при попытке создания чашки должно выбрасываться исключение:\n",
        "\n",
        "```\n",
        "Cappuccino(Sugar(Latte())).calculate_cost() -> exception\n",
        "```\n",
        "\n",
        "Добавки могут включаться в чашку в любом количестве и порядке.\n",
        "Добавление новых типов кофе и добавок не должно требовать изменения существующего кода."
      ]
    }
  ],
  "metadata": {
    "colab": {
      "provenance": [],
      "include_colab_link": true
    },
    "kernelspec": {
      "display_name": "Python 3",
      "language": "python",
      "name": "python3"
    },
    "language_info": {
      "codemirror_mode": {
        "name": "ipython",
        "version": 3
      },
      "file_extension": ".py",
      "mimetype": "text/x-python",
      "name": "python",
      "nbconvert_exporter": "python",
      "pygments_lexer": "ipython3",
      "version": "3.8.3"
    }
  },
  "nbformat": 4,
  "nbformat_minor": 0
}